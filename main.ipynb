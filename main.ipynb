{
 "cells": [
  {
   "metadata": {},
   "cell_type": "markdown",
   "source": [
    "***FCIM.FIA - Fundamentals of Artificial Intelligence***\n",
    "\n",
    "> **Lab 4:** Learning \\\n",
    "> **Performed by:** Dobrojan Alexandru, FAF-212 \\\n",
    "> **Verified by:** Elena Graur, asist. univ."
   ],
   "id": "be21e193a24dcba3"
  },
  {
   "metadata": {},
   "cell_type": "markdown",
   "source": [
    "# Theory\n",
    "Linear regression is one of the most simple machine learning models capable of predicting and classifying data. Linear regression is based on the regression line or line of best fit from mathematics that finds a line that would best fit between several values with an amount of noise. In this laboratory work I need only the prediction linear regression, that evaluates the input variables in order to generate a float value, that is in my case the predicted salary of a person.\n",
    "\n",
    "As we can see in the following example, regression line is a line that shows the approximate progression of the dependent variables, i.e. where they would fit if not noise was added to each data point. There is a regression line between dependent and independent variable only if there is a correlation between them to. The correlation measures the tendency of two variables to change together and ranges from 1 meaning perfect positive correlation to -1 meaning perfect negative correlation, 0 means there is no correlation at all and the variables grow independent of each other. The regression line can be expressed by the function $y = \\alpha x + \\beta$ for a single independent variable and $y = \\alpha_1 x_1 + \\alpha_2 x_2 + ... + \\alpha_i x_i + \\beta$ for an arbitrary number of independent variables.\n",
    "\n",
    "The model does a very similar thing by finding the regression line intercept and slopes and using this function to generate results for the input variables.\n",
    "\n",
    "![linear regression example](img/linear-regression.png)\n",
    "\n",
    "## Linear regression types\n",
    "There are several types of linear regression algorithms based on different formulas. Each type of linear regression has its strengths and weaknesses. In this laboratory work I used Ordinary Least Squares, Lasso and Ridge methods.\n",
    "\n",
    "- **Ordinary least squares** (OLS) regression finds the best-fit line by minimizing the sum of squared errors SSE: $SSE = \\sum_{i=1}^{n} (y_i - \\hat{y}_i)^2$.\n",
    "Finding the coefficients require solving the equation: $$\\beta = (X^T X)^{-1} X^T y$$ for an arbitrary number of regressors.\n",
    "- **Lasso** regression is an optimization with a hyperparameter $\\alpha$. It adds a regularization parameter to the objective function, making it $$Minimize \\frac{1}{2}\\sum_{i=1}^n (y_i - X_i \\beta)^2 + \\alpha \\sum_{j=1}^p |\\beta_j|$$ Where the $\\alpha$ is the regularization parameter, a positive float in range [0, $\\infty$)\n",
    "- **Ridge** - also known as Tikhonov regularization, is a type of linear regression that includes a regularization term to prevent overfitting and improve the model's generalization to new data. Its objective function is $$Minimize \\frac{1}{2}\\sum_{i=1}^n (y_i - X_i \\beta)^2 + \\lambda \\sum_{j=1}^p \\beta_j^2$$"
   ],
   "id": "2cb639c6c13d1a43"
  },
  {
   "metadata": {},
   "cell_type": "markdown",
   "source": "# Practice",
   "id": "e95a0d5809037298"
  },
  {
   "metadata": {},
   "cell_type": "markdown",
   "source": "## Global definitions part, imports, loading the data and printing some information",
   "id": "de4b3b3044b6f70d"
  },
  {
   "cell_type": "code",
   "id": "initial_id",
   "metadata": {
    "collapsed": true,
    "ExecuteTime": {
     "end_time": "2024-11-05T16:49:14.762196Z",
     "start_time": "2024-11-05T16:49:14.755771Z"
    }
   },
   "source": [
    "# Imports section\n",
    "\n",
    "import pandas as pd\n",
    "import seaborn as sns\n",
    "import numpy as np\n",
    "\n",
    "# Models\n",
    "from sklearn.linear_model import LinearRegression, Ridge, Lasso\n",
    "# Dataset selection\n",
    "from sklearn.model_selection import train_test_split\n",
    "# Metrics\n",
    "from sklearn.metrics import mean_absolute_error, mean_squared_error"
   ],
   "outputs": [],
   "execution_count": 54
  },
  {
   "metadata": {
    "ExecuteTime": {
     "end_time": "2024-11-05T16:49:14.796128Z",
     "start_time": "2024-11-05T16:49:14.786334Z"
    }
   },
   "cell_type": "code",
   "source": [
    "# Global definitions\n",
    "COLUMN_TO_PREDICT = 'TotalPay'\n",
    "# Size in percentage of the dataset to be split for the test, 0.15 means 15% of the dataset rows should be randomly\n",
    "# chosen for testing (verifying) and 85% of the dataset is used for training the model\n",
    "TEST_DATASET_SIZE = 0.15"
   ],
   "id": "688269f00430e5e1",
   "outputs": [],
   "execution_count": 55
  },
  {
   "metadata": {
    "ExecuteTime": {
     "end_time": "2024-11-05T16:49:15.742440Z",
     "start_time": "2024-11-05T16:49:14.850999Z"
    }
   },
   "cell_type": "code",
   "source": [
    "# Loading the data\n",
    "data = pd.read_csv('data/data.csv', low_memory=False)\n",
    "# Let's have a look at the loaded data\n",
    "data.head()"
   ],
   "id": "4b84233d631b8c75",
   "outputs": [
    {
     "data": {
      "text/plain": [
       "   Id       EmployeeName                                        JobTitle  \\\n",
       "0   1     NATHANIEL FORD  GENERAL MANAGER-METROPOLITAN TRANSIT AUTHORITY   \n",
       "1   2       GARY JIMENEZ                 CAPTAIN III (POLICE DEPARTMENT)   \n",
       "2   3     ALBERT PARDINI                 CAPTAIN III (POLICE DEPARTMENT)   \n",
       "3   4  CHRISTOPHER CHONG            WIRE ROPE CABLE MAINTENANCE MECHANIC   \n",
       "4   5    PATRICK GARDNER    DEPUTY CHIEF OF DEPARTMENT,(FIRE DEPARTMENT)   \n",
       "\n",
       "     BasePay OvertimePay   OtherPay Benefits   TotalPay  TotalPayBenefits  \\\n",
       "0  167411.18         0.0  400184.25      NaN  567595.43         567595.43   \n",
       "1  155966.02   245131.88  137811.38      NaN  538909.28         538909.28   \n",
       "2  212739.13   106088.18    16452.6      NaN  335279.91         335279.91   \n",
       "3    77916.0    56120.71   198306.9      NaN  332343.61         332343.61   \n",
       "4   134401.6      9737.0  182234.59      NaN  326373.19         326373.19   \n",
       "\n",
       "   Year  Notes         Agency Status  \n",
       "0  2011    NaN  San Francisco    NaN  \n",
       "1  2011    NaN  San Francisco    NaN  \n",
       "2  2011    NaN  San Francisco    NaN  \n",
       "3  2011    NaN  San Francisco    NaN  \n",
       "4  2011    NaN  San Francisco    NaN  "
      ],
      "text/html": [
       "<div>\n",
       "<style scoped>\n",
       "    .dataframe tbody tr th:only-of-type {\n",
       "        vertical-align: middle;\n",
       "    }\n",
       "\n",
       "    .dataframe tbody tr th {\n",
       "        vertical-align: top;\n",
       "    }\n",
       "\n",
       "    .dataframe thead th {\n",
       "        text-align: right;\n",
       "    }\n",
       "</style>\n",
       "<table border=\"1\" class=\"dataframe\">\n",
       "  <thead>\n",
       "    <tr style=\"text-align: right;\">\n",
       "      <th></th>\n",
       "      <th>Id</th>\n",
       "      <th>EmployeeName</th>\n",
       "      <th>JobTitle</th>\n",
       "      <th>BasePay</th>\n",
       "      <th>OvertimePay</th>\n",
       "      <th>OtherPay</th>\n",
       "      <th>Benefits</th>\n",
       "      <th>TotalPay</th>\n",
       "      <th>TotalPayBenefits</th>\n",
       "      <th>Year</th>\n",
       "      <th>Notes</th>\n",
       "      <th>Agency</th>\n",
       "      <th>Status</th>\n",
       "    </tr>\n",
       "  </thead>\n",
       "  <tbody>\n",
       "    <tr>\n",
       "      <th>0</th>\n",
       "      <td>1</td>\n",
       "      <td>NATHANIEL FORD</td>\n",
       "      <td>GENERAL MANAGER-METROPOLITAN TRANSIT AUTHORITY</td>\n",
       "      <td>167411.18</td>\n",
       "      <td>0.0</td>\n",
       "      <td>400184.25</td>\n",
       "      <td>NaN</td>\n",
       "      <td>567595.43</td>\n",
       "      <td>567595.43</td>\n",
       "      <td>2011</td>\n",
       "      <td>NaN</td>\n",
       "      <td>San Francisco</td>\n",
       "      <td>NaN</td>\n",
       "    </tr>\n",
       "    <tr>\n",
       "      <th>1</th>\n",
       "      <td>2</td>\n",
       "      <td>GARY JIMENEZ</td>\n",
       "      <td>CAPTAIN III (POLICE DEPARTMENT)</td>\n",
       "      <td>155966.02</td>\n",
       "      <td>245131.88</td>\n",
       "      <td>137811.38</td>\n",
       "      <td>NaN</td>\n",
       "      <td>538909.28</td>\n",
       "      <td>538909.28</td>\n",
       "      <td>2011</td>\n",
       "      <td>NaN</td>\n",
       "      <td>San Francisco</td>\n",
       "      <td>NaN</td>\n",
       "    </tr>\n",
       "    <tr>\n",
       "      <th>2</th>\n",
       "      <td>3</td>\n",
       "      <td>ALBERT PARDINI</td>\n",
       "      <td>CAPTAIN III (POLICE DEPARTMENT)</td>\n",
       "      <td>212739.13</td>\n",
       "      <td>106088.18</td>\n",
       "      <td>16452.6</td>\n",
       "      <td>NaN</td>\n",
       "      <td>335279.91</td>\n",
       "      <td>335279.91</td>\n",
       "      <td>2011</td>\n",
       "      <td>NaN</td>\n",
       "      <td>San Francisco</td>\n",
       "      <td>NaN</td>\n",
       "    </tr>\n",
       "    <tr>\n",
       "      <th>3</th>\n",
       "      <td>4</td>\n",
       "      <td>CHRISTOPHER CHONG</td>\n",
       "      <td>WIRE ROPE CABLE MAINTENANCE MECHANIC</td>\n",
       "      <td>77916.0</td>\n",
       "      <td>56120.71</td>\n",
       "      <td>198306.9</td>\n",
       "      <td>NaN</td>\n",
       "      <td>332343.61</td>\n",
       "      <td>332343.61</td>\n",
       "      <td>2011</td>\n",
       "      <td>NaN</td>\n",
       "      <td>San Francisco</td>\n",
       "      <td>NaN</td>\n",
       "    </tr>\n",
       "    <tr>\n",
       "      <th>4</th>\n",
       "      <td>5</td>\n",
       "      <td>PATRICK GARDNER</td>\n",
       "      <td>DEPUTY CHIEF OF DEPARTMENT,(FIRE DEPARTMENT)</td>\n",
       "      <td>134401.6</td>\n",
       "      <td>9737.0</td>\n",
       "      <td>182234.59</td>\n",
       "      <td>NaN</td>\n",
       "      <td>326373.19</td>\n",
       "      <td>326373.19</td>\n",
       "      <td>2011</td>\n",
       "      <td>NaN</td>\n",
       "      <td>San Francisco</td>\n",
       "      <td>NaN</td>\n",
       "    </tr>\n",
       "  </tbody>\n",
       "</table>\n",
       "</div>"
      ]
     },
     "execution_count": 56,
     "metadata": {},
     "output_type": "execute_result"
    }
   ],
   "execution_count": 56
  },
  {
   "metadata": {
    "ExecuteTime": {
     "end_time": "2024-11-05T16:49:15.859665Z",
     "start_time": "2024-11-05T16:49:15.846067Z"
    }
   },
   "cell_type": "code",
   "source": [
    "# Print the data types of each column\n",
    "print(data.dtypes)"
   ],
   "id": "1c686814cd82c279",
   "outputs": [
    {
     "name": "stdout",
     "output_type": "stream",
     "text": [
      "Id                    int64\n",
      "EmployeeName         object\n",
      "JobTitle             object\n",
      "BasePay              object\n",
      "OvertimePay          object\n",
      "OtherPay             object\n",
      "Benefits             object\n",
      "TotalPay            float64\n",
      "TotalPayBenefits    float64\n",
      "Year                  int64\n",
      "Notes               float64\n",
      "Agency               object\n",
      "Status               object\n",
      "dtype: object\n"
     ]
    }
   ],
   "execution_count": 57
  },
  {
   "metadata": {},
   "cell_type": "markdown",
   "source": "Object data type means no data type could be inferred for the column. That may happen because some values are missing or there are multiple data types present in the column, for example string, int32, float64 and so on. In my case EmployeeName and JobTitle should be strings, and in the next section I am converting the columns to string.",
   "id": "5ee1b532aeac8c45"
  },
  {
   "metadata": {},
   "cell_type": "markdown",
   "source": "### Analyzing and transforming the dataset",
   "id": "82731db6ee95f2cd"
  },
  {
   "metadata": {
    "ExecuteTime": {
     "end_time": "2024-11-05T16:49:16.007693Z",
     "start_time": "2024-11-05T16:49:15.974875Z"
    }
   },
   "cell_type": "code",
   "source": [
    "# Convert object data types to string\n",
    "data['EmployeeName'] = data['EmployeeName'].astype('string')\n",
    "data['JobTitle'] = data['JobTitle'].astype('string')\n",
    "print(data.dtypes)"
   ],
   "id": "b892ba8b81f1b1d3",
   "outputs": [
    {
     "name": "stdout",
     "output_type": "stream",
     "text": [
      "Id                           int64\n",
      "EmployeeName        string[python]\n",
      "JobTitle            string[python]\n",
      "BasePay                     object\n",
      "OvertimePay                 object\n",
      "OtherPay                    object\n",
      "Benefits                    object\n",
      "TotalPay                   float64\n",
      "TotalPayBenefits           float64\n",
      "Year                         int64\n",
      "Notes                      float64\n",
      "Agency                      object\n",
      "Status                      object\n",
      "dtype: object\n"
     ]
    }
   ],
   "execution_count": 58
  },
  {
   "metadata": {},
   "cell_type": "markdown",
   "source": "Next, a very important step is looking for columns with missing data, it can be 0 or NaN, in my case it is NaN. There is how I print the column names that have at least one NaN value in them:",
   "id": "208b217f7842d176"
  },
  {
   "metadata": {
    "ExecuteTime": {
     "end_time": "2024-11-05T16:49:16.354420Z",
     "start_time": "2024-11-05T16:49:16.280375Z"
    }
   },
   "cell_type": "code",
   "source": [
    "# See what columns have rows with missing data\n",
    "print(data.columns[data.isna().any()].values)"
   ],
   "id": "c14d1314d1ae7310",
   "outputs": [
    {
     "name": "stdout",
     "output_type": "stream",
     "text": [
      "['BasePay' 'Benefits' 'Notes' 'Status']\n"
     ]
    }
   ],
   "execution_count": 59
  },
  {
   "metadata": {
    "ExecuteTime": {
     "end_time": "2024-11-05T16:49:16.404584Z",
     "start_time": "2024-11-05T16:49:16.395428Z"
    }
   },
   "cell_type": "code",
   "source": "print(data.dtypes)\n",
   "id": "154dd742f5764d4b",
   "outputs": [
    {
     "name": "stdout",
     "output_type": "stream",
     "text": [
      "Id                           int64\n",
      "EmployeeName        string[python]\n",
      "JobTitle            string[python]\n",
      "BasePay                     object\n",
      "OvertimePay                 object\n",
      "OtherPay                    object\n",
      "Benefits                    object\n",
      "TotalPay                   float64\n",
      "TotalPayBenefits           float64\n",
      "Year                         int64\n",
      "Notes                      float64\n",
      "Agency                      object\n",
      "Status                      object\n",
      "dtype: object\n"
     ]
    }
   ],
   "execution_count": 60
  },
  {
   "metadata": {},
   "cell_type": "markdown",
   "source": "Now the data types are more consistent. Next, I look at unique values in the following columns, because there were empty cells in the dataset or there were only one values when I looked at the raw dataset. I use the *unique* function of pandas to show the unique values:",
   "id": "f7e0cae23d4cd598"
  },
  {
   "metadata": {
    "ExecuteTime": {
     "end_time": "2024-11-05T16:49:16.539544Z",
     "start_time": "2024-11-05T16:49:16.510020Z"
    }
   },
   "cell_type": "code",
   "source": [
    "# See if these columns have more than a single value\n",
    "for column in ['Year', 'Notes', 'Agency', 'Status']:\n",
    "    print(f\"{column}: {data[column].unique()}\")"
   ],
   "id": "155c13f762988d39",
   "outputs": [
    {
     "name": "stdout",
     "output_type": "stream",
     "text": [
      "Year: [2011 2012 2013 2014]\n",
      "Notes: [nan]\n",
      "Agency: ['San Francisco']\n",
      "Status: [nan 'PT' 'FT']\n"
     ]
    }
   ],
   "execution_count": 61
  },
  {
   "metadata": {},
   "cell_type": "markdown",
   "source": "As I noticed, Notes and Agency can be removed since they have only one value, that makes them useless. We have several values in Year, thus I leave it. Also the Status column has NaN values in it, that means I have to either populate NaN values or get rid of the whole column, because the lack of values will affect the predictions precision.",
   "id": "6957ace170c9412"
  },
  {
   "metadata": {
    "ExecuteTime": {
     "end_time": "2024-11-05T16:49:16.726605Z",
     "start_time": "2024-11-05T16:49:16.701Z"
    }
   },
   "cell_type": "code",
   "source": [
    "cols_to_remove = ['Id', 'EmployeeName', 'BasePay', 'OvertimePay', 'OtherPay', 'Benefits', 'TotalPayBenefits', 'Notes',\n",
    "                  'Agency', 'Status']\n",
    "data = data.drop(cols_to_remove, axis='columns')\n",
    "data.head()"
   ],
   "id": "40cf093a7cff44ac",
   "outputs": [
    {
     "data": {
      "text/plain": [
       "                                         JobTitle   TotalPay  Year\n",
       "0  GENERAL MANAGER-METROPOLITAN TRANSIT AUTHORITY  567595.43  2011\n",
       "1                 CAPTAIN III (POLICE DEPARTMENT)  538909.28  2011\n",
       "2                 CAPTAIN III (POLICE DEPARTMENT)  335279.91  2011\n",
       "3            WIRE ROPE CABLE MAINTENANCE MECHANIC  332343.61  2011\n",
       "4    DEPUTY CHIEF OF DEPARTMENT,(FIRE DEPARTMENT)  326373.19  2011"
      ],
      "text/html": [
       "<div>\n",
       "<style scoped>\n",
       "    .dataframe tbody tr th:only-of-type {\n",
       "        vertical-align: middle;\n",
       "    }\n",
       "\n",
       "    .dataframe tbody tr th {\n",
       "        vertical-align: top;\n",
       "    }\n",
       "\n",
       "    .dataframe thead th {\n",
       "        text-align: right;\n",
       "    }\n",
       "</style>\n",
       "<table border=\"1\" class=\"dataframe\">\n",
       "  <thead>\n",
       "    <tr style=\"text-align: right;\">\n",
       "      <th></th>\n",
       "      <th>JobTitle</th>\n",
       "      <th>TotalPay</th>\n",
       "      <th>Year</th>\n",
       "    </tr>\n",
       "  </thead>\n",
       "  <tbody>\n",
       "    <tr>\n",
       "      <th>0</th>\n",
       "      <td>GENERAL MANAGER-METROPOLITAN TRANSIT AUTHORITY</td>\n",
       "      <td>567595.43</td>\n",
       "      <td>2011</td>\n",
       "    </tr>\n",
       "    <tr>\n",
       "      <th>1</th>\n",
       "      <td>CAPTAIN III (POLICE DEPARTMENT)</td>\n",
       "      <td>538909.28</td>\n",
       "      <td>2011</td>\n",
       "    </tr>\n",
       "    <tr>\n",
       "      <th>2</th>\n",
       "      <td>CAPTAIN III (POLICE DEPARTMENT)</td>\n",
       "      <td>335279.91</td>\n",
       "      <td>2011</td>\n",
       "    </tr>\n",
       "    <tr>\n",
       "      <th>3</th>\n",
       "      <td>WIRE ROPE CABLE MAINTENANCE MECHANIC</td>\n",
       "      <td>332343.61</td>\n",
       "      <td>2011</td>\n",
       "    </tr>\n",
       "    <tr>\n",
       "      <th>4</th>\n",
       "      <td>DEPUTY CHIEF OF DEPARTMENT,(FIRE DEPARTMENT)</td>\n",
       "      <td>326373.19</td>\n",
       "      <td>2011</td>\n",
       "    </tr>\n",
       "  </tbody>\n",
       "</table>\n",
       "</div>"
      ]
     },
     "execution_count": 62,
     "metadata": {},
     "output_type": "execute_result"
    }
   ],
   "execution_count": 62
  },
  {
   "metadata": {},
   "cell_type": "markdown",
   "source": "Next, I have to get rid of the string column, because the linear regression works only with numbers, so I have to replace each string with a number. I chose to factorize each title into a number that would act as an ID, below I show how:",
   "id": "b258cd3ad944b35e"
  },
  {
   "metadata": {
    "ExecuteTime": {
     "end_time": "2024-11-05T16:49:16.926836Z",
     "start_time": "2024-11-05T16:49:16.889046Z"
    }
   },
   "cell_type": "code",
   "source": [
    "# Replace (factorize) Job titles from string to integers, for example [a, b, c, a, b] -> [0, 1, 2, 0, 1]\n",
    "data['JobTitle'], _ = pd.factorize(data['JobTitle'])\n",
    "data.head()"
   ],
   "id": "67521b66e48b0256",
   "outputs": [
    {
     "data": {
      "text/plain": [
       "   JobTitle   TotalPay  Year\n",
       "0         0  567595.43  2011\n",
       "1         1  538909.28  2011\n",
       "2         1  335279.91  2011\n",
       "3         2  332343.61  2011\n",
       "4         3  326373.19  2011"
      ],
      "text/html": [
       "<div>\n",
       "<style scoped>\n",
       "    .dataframe tbody tr th:only-of-type {\n",
       "        vertical-align: middle;\n",
       "    }\n",
       "\n",
       "    .dataframe tbody tr th {\n",
       "        vertical-align: top;\n",
       "    }\n",
       "\n",
       "    .dataframe thead th {\n",
       "        text-align: right;\n",
       "    }\n",
       "</style>\n",
       "<table border=\"1\" class=\"dataframe\">\n",
       "  <thead>\n",
       "    <tr style=\"text-align: right;\">\n",
       "      <th></th>\n",
       "      <th>JobTitle</th>\n",
       "      <th>TotalPay</th>\n",
       "      <th>Year</th>\n",
       "    </tr>\n",
       "  </thead>\n",
       "  <tbody>\n",
       "    <tr>\n",
       "      <th>0</th>\n",
       "      <td>0</td>\n",
       "      <td>567595.43</td>\n",
       "      <td>2011</td>\n",
       "    </tr>\n",
       "    <tr>\n",
       "      <th>1</th>\n",
       "      <td>1</td>\n",
       "      <td>538909.28</td>\n",
       "      <td>2011</td>\n",
       "    </tr>\n",
       "    <tr>\n",
       "      <th>2</th>\n",
       "      <td>1</td>\n",
       "      <td>335279.91</td>\n",
       "      <td>2011</td>\n",
       "    </tr>\n",
       "    <tr>\n",
       "      <th>3</th>\n",
       "      <td>2</td>\n",
       "      <td>332343.61</td>\n",
       "      <td>2011</td>\n",
       "    </tr>\n",
       "    <tr>\n",
       "      <th>4</th>\n",
       "      <td>3</td>\n",
       "      <td>326373.19</td>\n",
       "      <td>2011</td>\n",
       "    </tr>\n",
       "  </tbody>\n",
       "</table>\n",
       "</div>"
      ]
     },
     "execution_count": 63,
     "metadata": {},
     "output_type": "execute_result"
    }
   ],
   "execution_count": 63
  },
  {
   "metadata": {
    "ExecuteTime": {
     "end_time": "2024-11-05T16:49:17.035207Z",
     "start_time": "2024-11-05T16:49:17.019702Z"
    }
   },
   "cell_type": "code",
   "source": [
    "# Show correlations with remaining columns\n",
    "data.corr()[COLUMN_TO_PREDICT]"
   ],
   "id": "9819920fd150c912",
   "outputs": [
    {
     "data": {
      "text/plain": [
       "JobTitle   -0.350263\n",
       "TotalPay    1.000000\n",
       "Year        0.032090\n",
       "Name: TotalPay, dtype: float64"
      ]
     },
     "execution_count": 64,
     "metadata": {},
     "output_type": "execute_result"
    }
   ],
   "execution_count": 64
  },
  {
   "metadata": {},
   "cell_type": "markdown",
   "source": "The correlation with year is minimal, meaning they are almost independent of each other. JobTitle correlation is irrelevant since it factorized from string.",
   "id": "4dab15e7cbb1ad7a"
  },
  {
   "metadata": {
    "ExecuteTime": {
     "end_time": "2024-11-05T16:49:17.288682Z",
     "start_time": "2024-11-05T16:49:17.262350Z"
    }
   },
   "cell_type": "code",
   "source": [
    "# Divide data into train and test sets\n",
    "X = data.drop(COLUMN_TO_PREDICT, axis='columns')\n",
    "y = data[COLUMN_TO_PREDICT]\n",
    "X_train, X_test, y_train, y_test = train_test_split(X, y, test_size=TEST_DATASET_SIZE)\n",
    "\n",
    "print(X_train.shape, y_train.shape)\n",
    "print(X_test.shape, y_test.shape)"
   ],
   "id": "af94c74315591050",
   "outputs": [
    {
     "name": "stdout",
     "output_type": "stream",
     "text": [
      "(126355, 2) (126355,)\n",
      "(22299, 2) (22299,)\n"
     ]
    }
   ],
   "execution_count": 65
  },
  {
   "metadata": {
    "ExecuteTime": {
     "end_time": "2024-11-05T16:49:17.815972Z",
     "start_time": "2024-11-05T16:49:17.465Z"
    }
   },
   "cell_type": "code",
   "source": [
    "least_squares_regression = LinearRegression()\n",
    "lasso_regression = Lasso(alpha=5) # default 1\n",
    "ridge_regression = Ridge(alpha=5) # default 1\n",
    "\n",
    "predictors = X_train.columns\n",
    "# Train the model\n",
    "least_squares_regression.fit(X_train[predictors], y_train)\n",
    "lasso_regression.fit(X_train[predictors], y_train)\n",
    "ridge_regression.fit(X_train[predictors], y_train)"
   ],
   "id": "92ce8be2f549a3b7",
   "outputs": [
    {
     "data": {
      "text/plain": [
       "Ridge(alpha=5)"
      ],
      "text/html": [
       "<style>#sk-container-id-3 {\n",
       "  /* Definition of color scheme common for light and dark mode */\n",
       "  --sklearn-color-text: black;\n",
       "  --sklearn-color-line: gray;\n",
       "  /* Definition of color scheme for unfitted estimators */\n",
       "  --sklearn-color-unfitted-level-0: #fff5e6;\n",
       "  --sklearn-color-unfitted-level-1: #f6e4d2;\n",
       "  --sklearn-color-unfitted-level-2: #ffe0b3;\n",
       "  --sklearn-color-unfitted-level-3: chocolate;\n",
       "  /* Definition of color scheme for fitted estimators */\n",
       "  --sklearn-color-fitted-level-0: #f0f8ff;\n",
       "  --sklearn-color-fitted-level-1: #d4ebff;\n",
       "  --sklearn-color-fitted-level-2: #b3dbfd;\n",
       "  --sklearn-color-fitted-level-3: cornflowerblue;\n",
       "\n",
       "  /* Specific color for light theme */\n",
       "  --sklearn-color-text-on-default-background: var(--sg-text-color, var(--theme-code-foreground, var(--jp-content-font-color1, black)));\n",
       "  --sklearn-color-background: var(--sg-background-color, var(--theme-background, var(--jp-layout-color0, white)));\n",
       "  --sklearn-color-border-box: var(--sg-text-color, var(--theme-code-foreground, var(--jp-content-font-color1, black)));\n",
       "  --sklearn-color-icon: #696969;\n",
       "\n",
       "  @media (prefers-color-scheme: dark) {\n",
       "    /* Redefinition of color scheme for dark theme */\n",
       "    --sklearn-color-text-on-default-background: var(--sg-text-color, var(--theme-code-foreground, var(--jp-content-font-color1, white)));\n",
       "    --sklearn-color-background: var(--sg-background-color, var(--theme-background, var(--jp-layout-color0, #111)));\n",
       "    --sklearn-color-border-box: var(--sg-text-color, var(--theme-code-foreground, var(--jp-content-font-color1, white)));\n",
       "    --sklearn-color-icon: #878787;\n",
       "  }\n",
       "}\n",
       "\n",
       "#sk-container-id-3 {\n",
       "  color: var(--sklearn-color-text);\n",
       "}\n",
       "\n",
       "#sk-container-id-3 pre {\n",
       "  padding: 0;\n",
       "}\n",
       "\n",
       "#sk-container-id-3 input.sk-hidden--visually {\n",
       "  border: 0;\n",
       "  clip: rect(1px 1px 1px 1px);\n",
       "  clip: rect(1px, 1px, 1px, 1px);\n",
       "  height: 1px;\n",
       "  margin: -1px;\n",
       "  overflow: hidden;\n",
       "  padding: 0;\n",
       "  position: absolute;\n",
       "  width: 1px;\n",
       "}\n",
       "\n",
       "#sk-container-id-3 div.sk-dashed-wrapped {\n",
       "  border: 1px dashed var(--sklearn-color-line);\n",
       "  margin: 0 0.4em 0.5em 0.4em;\n",
       "  box-sizing: border-box;\n",
       "  padding-bottom: 0.4em;\n",
       "  background-color: var(--sklearn-color-background);\n",
       "}\n",
       "\n",
       "#sk-container-id-3 div.sk-container {\n",
       "  /* jupyter's `normalize.less` sets `[hidden] { display: none; }`\n",
       "     but bootstrap.min.css set `[hidden] { display: none !important; }`\n",
       "     so we also need the `!important` here to be able to override the\n",
       "     default hidden behavior on the sphinx rendered scikit-learn.org.\n",
       "     See: https://github.com/scikit-learn/scikit-learn/issues/21755 */\n",
       "  display: inline-block !important;\n",
       "  position: relative;\n",
       "}\n",
       "\n",
       "#sk-container-id-3 div.sk-text-repr-fallback {\n",
       "  display: none;\n",
       "}\n",
       "\n",
       "div.sk-parallel-item,\n",
       "div.sk-serial,\n",
       "div.sk-item {\n",
       "  /* draw centered vertical line to link estimators */\n",
       "  background-image: linear-gradient(var(--sklearn-color-text-on-default-background), var(--sklearn-color-text-on-default-background));\n",
       "  background-size: 2px 100%;\n",
       "  background-repeat: no-repeat;\n",
       "  background-position: center center;\n",
       "}\n",
       "\n",
       "/* Parallel-specific style estimator block */\n",
       "\n",
       "#sk-container-id-3 div.sk-parallel-item::after {\n",
       "  content: \"\";\n",
       "  width: 100%;\n",
       "  border-bottom: 2px solid var(--sklearn-color-text-on-default-background);\n",
       "  flex-grow: 1;\n",
       "}\n",
       "\n",
       "#sk-container-id-3 div.sk-parallel {\n",
       "  display: flex;\n",
       "  align-items: stretch;\n",
       "  justify-content: center;\n",
       "  background-color: var(--sklearn-color-background);\n",
       "  position: relative;\n",
       "}\n",
       "\n",
       "#sk-container-id-3 div.sk-parallel-item {\n",
       "  display: flex;\n",
       "  flex-direction: column;\n",
       "}\n",
       "\n",
       "#sk-container-id-3 div.sk-parallel-item:first-child::after {\n",
       "  align-self: flex-end;\n",
       "  width: 50%;\n",
       "}\n",
       "\n",
       "#sk-container-id-3 div.sk-parallel-item:last-child::after {\n",
       "  align-self: flex-start;\n",
       "  width: 50%;\n",
       "}\n",
       "\n",
       "#sk-container-id-3 div.sk-parallel-item:only-child::after {\n",
       "  width: 0;\n",
       "}\n",
       "\n",
       "/* Serial-specific style estimator block */\n",
       "\n",
       "#sk-container-id-3 div.sk-serial {\n",
       "  display: flex;\n",
       "  flex-direction: column;\n",
       "  align-items: center;\n",
       "  background-color: var(--sklearn-color-background);\n",
       "  padding-right: 1em;\n",
       "  padding-left: 1em;\n",
       "}\n",
       "\n",
       "\n",
       "/* Toggleable style: style used for estimator/Pipeline/ColumnTransformer box that is\n",
       "clickable and can be expanded/collapsed.\n",
       "- Pipeline and ColumnTransformer use this feature and define the default style\n",
       "- Estimators will overwrite some part of the style using the `sk-estimator` class\n",
       "*/\n",
       "\n",
       "/* Pipeline and ColumnTransformer style (default) */\n",
       "\n",
       "#sk-container-id-3 div.sk-toggleable {\n",
       "  /* Default theme specific background. It is overwritten whether we have a\n",
       "  specific estimator or a Pipeline/ColumnTransformer */\n",
       "  background-color: var(--sklearn-color-background);\n",
       "}\n",
       "\n",
       "/* Toggleable label */\n",
       "#sk-container-id-3 label.sk-toggleable__label {\n",
       "  cursor: pointer;\n",
       "  display: block;\n",
       "  width: 100%;\n",
       "  margin-bottom: 0;\n",
       "  padding: 0.5em;\n",
       "  box-sizing: border-box;\n",
       "  text-align: center;\n",
       "}\n",
       "\n",
       "#sk-container-id-3 label.sk-toggleable__label-arrow:before {\n",
       "  /* Arrow on the left of the label */\n",
       "  content: \"▸\";\n",
       "  float: left;\n",
       "  margin-right: 0.25em;\n",
       "  color: var(--sklearn-color-icon);\n",
       "}\n",
       "\n",
       "#sk-container-id-3 label.sk-toggleable__label-arrow:hover:before {\n",
       "  color: var(--sklearn-color-text);\n",
       "}\n",
       "\n",
       "/* Toggleable content - dropdown */\n",
       "\n",
       "#sk-container-id-3 div.sk-toggleable__content {\n",
       "  max-height: 0;\n",
       "  max-width: 0;\n",
       "  overflow: hidden;\n",
       "  text-align: left;\n",
       "  /* unfitted */\n",
       "  background-color: var(--sklearn-color-unfitted-level-0);\n",
       "}\n",
       "\n",
       "#sk-container-id-3 div.sk-toggleable__content.fitted {\n",
       "  /* fitted */\n",
       "  background-color: var(--sklearn-color-fitted-level-0);\n",
       "}\n",
       "\n",
       "#sk-container-id-3 div.sk-toggleable__content pre {\n",
       "  margin: 0.2em;\n",
       "  border-radius: 0.25em;\n",
       "  color: var(--sklearn-color-text);\n",
       "  /* unfitted */\n",
       "  background-color: var(--sklearn-color-unfitted-level-0);\n",
       "}\n",
       "\n",
       "#sk-container-id-3 div.sk-toggleable__content.fitted pre {\n",
       "  /* unfitted */\n",
       "  background-color: var(--sklearn-color-fitted-level-0);\n",
       "}\n",
       "\n",
       "#sk-container-id-3 input.sk-toggleable__control:checked~div.sk-toggleable__content {\n",
       "  /* Expand drop-down */\n",
       "  max-height: 200px;\n",
       "  max-width: 100%;\n",
       "  overflow: auto;\n",
       "}\n",
       "\n",
       "#sk-container-id-3 input.sk-toggleable__control:checked~label.sk-toggleable__label-arrow:before {\n",
       "  content: \"▾\";\n",
       "}\n",
       "\n",
       "/* Pipeline/ColumnTransformer-specific style */\n",
       "\n",
       "#sk-container-id-3 div.sk-label input.sk-toggleable__control:checked~label.sk-toggleable__label {\n",
       "  color: var(--sklearn-color-text);\n",
       "  background-color: var(--sklearn-color-unfitted-level-2);\n",
       "}\n",
       "\n",
       "#sk-container-id-3 div.sk-label.fitted input.sk-toggleable__control:checked~label.sk-toggleable__label {\n",
       "  background-color: var(--sklearn-color-fitted-level-2);\n",
       "}\n",
       "\n",
       "/* Estimator-specific style */\n",
       "\n",
       "/* Colorize estimator box */\n",
       "#sk-container-id-3 div.sk-estimator input.sk-toggleable__control:checked~label.sk-toggleable__label {\n",
       "  /* unfitted */\n",
       "  background-color: var(--sklearn-color-unfitted-level-2);\n",
       "}\n",
       "\n",
       "#sk-container-id-3 div.sk-estimator.fitted input.sk-toggleable__control:checked~label.sk-toggleable__label {\n",
       "  /* fitted */\n",
       "  background-color: var(--sklearn-color-fitted-level-2);\n",
       "}\n",
       "\n",
       "#sk-container-id-3 div.sk-label label.sk-toggleable__label,\n",
       "#sk-container-id-3 div.sk-label label {\n",
       "  /* The background is the default theme color */\n",
       "  color: var(--sklearn-color-text-on-default-background);\n",
       "}\n",
       "\n",
       "/* On hover, darken the color of the background */\n",
       "#sk-container-id-3 div.sk-label:hover label.sk-toggleable__label {\n",
       "  color: var(--sklearn-color-text);\n",
       "  background-color: var(--sklearn-color-unfitted-level-2);\n",
       "}\n",
       "\n",
       "/* Label box, darken color on hover, fitted */\n",
       "#sk-container-id-3 div.sk-label.fitted:hover label.sk-toggleable__label.fitted {\n",
       "  color: var(--sklearn-color-text);\n",
       "  background-color: var(--sklearn-color-fitted-level-2);\n",
       "}\n",
       "\n",
       "/* Estimator label */\n",
       "\n",
       "#sk-container-id-3 div.sk-label label {\n",
       "  font-family: monospace;\n",
       "  font-weight: bold;\n",
       "  display: inline-block;\n",
       "  line-height: 1.2em;\n",
       "}\n",
       "\n",
       "#sk-container-id-3 div.sk-label-container {\n",
       "  text-align: center;\n",
       "}\n",
       "\n",
       "/* Estimator-specific */\n",
       "#sk-container-id-3 div.sk-estimator {\n",
       "  font-family: monospace;\n",
       "  border: 1px dotted var(--sklearn-color-border-box);\n",
       "  border-radius: 0.25em;\n",
       "  box-sizing: border-box;\n",
       "  margin-bottom: 0.5em;\n",
       "  /* unfitted */\n",
       "  background-color: var(--sklearn-color-unfitted-level-0);\n",
       "}\n",
       "\n",
       "#sk-container-id-3 div.sk-estimator.fitted {\n",
       "  /* fitted */\n",
       "  background-color: var(--sklearn-color-fitted-level-0);\n",
       "}\n",
       "\n",
       "/* on hover */\n",
       "#sk-container-id-3 div.sk-estimator:hover {\n",
       "  /* unfitted */\n",
       "  background-color: var(--sklearn-color-unfitted-level-2);\n",
       "}\n",
       "\n",
       "#sk-container-id-3 div.sk-estimator.fitted:hover {\n",
       "  /* fitted */\n",
       "  background-color: var(--sklearn-color-fitted-level-2);\n",
       "}\n",
       "\n",
       "/* Specification for estimator info (e.g. \"i\" and \"?\") */\n",
       "\n",
       "/* Common style for \"i\" and \"?\" */\n",
       "\n",
       ".sk-estimator-doc-link,\n",
       "a:link.sk-estimator-doc-link,\n",
       "a:visited.sk-estimator-doc-link {\n",
       "  float: right;\n",
       "  font-size: smaller;\n",
       "  line-height: 1em;\n",
       "  font-family: monospace;\n",
       "  background-color: var(--sklearn-color-background);\n",
       "  border-radius: 1em;\n",
       "  height: 1em;\n",
       "  width: 1em;\n",
       "  text-decoration: none !important;\n",
       "  margin-left: 1ex;\n",
       "  /* unfitted */\n",
       "  border: var(--sklearn-color-unfitted-level-1) 1pt solid;\n",
       "  color: var(--sklearn-color-unfitted-level-1);\n",
       "}\n",
       "\n",
       ".sk-estimator-doc-link.fitted,\n",
       "a:link.sk-estimator-doc-link.fitted,\n",
       "a:visited.sk-estimator-doc-link.fitted {\n",
       "  /* fitted */\n",
       "  border: var(--sklearn-color-fitted-level-1) 1pt solid;\n",
       "  color: var(--sklearn-color-fitted-level-1);\n",
       "}\n",
       "\n",
       "/* On hover */\n",
       "div.sk-estimator:hover .sk-estimator-doc-link:hover,\n",
       ".sk-estimator-doc-link:hover,\n",
       "div.sk-label-container:hover .sk-estimator-doc-link:hover,\n",
       ".sk-estimator-doc-link:hover {\n",
       "  /* unfitted */\n",
       "  background-color: var(--sklearn-color-unfitted-level-3);\n",
       "  color: var(--sklearn-color-background);\n",
       "  text-decoration: none;\n",
       "}\n",
       "\n",
       "div.sk-estimator.fitted:hover .sk-estimator-doc-link.fitted:hover,\n",
       ".sk-estimator-doc-link.fitted:hover,\n",
       "div.sk-label-container:hover .sk-estimator-doc-link.fitted:hover,\n",
       ".sk-estimator-doc-link.fitted:hover {\n",
       "  /* fitted */\n",
       "  background-color: var(--sklearn-color-fitted-level-3);\n",
       "  color: var(--sklearn-color-background);\n",
       "  text-decoration: none;\n",
       "}\n",
       "\n",
       "/* Span, style for the box shown on hovering the info icon */\n",
       ".sk-estimator-doc-link span {\n",
       "  display: none;\n",
       "  z-index: 9999;\n",
       "  position: relative;\n",
       "  font-weight: normal;\n",
       "  right: .2ex;\n",
       "  padding: .5ex;\n",
       "  margin: .5ex;\n",
       "  width: min-content;\n",
       "  min-width: 20ex;\n",
       "  max-width: 50ex;\n",
       "  color: var(--sklearn-color-text);\n",
       "  box-shadow: 2pt 2pt 4pt #999;\n",
       "  /* unfitted */\n",
       "  background: var(--sklearn-color-unfitted-level-0);\n",
       "  border: .5pt solid var(--sklearn-color-unfitted-level-3);\n",
       "}\n",
       "\n",
       ".sk-estimator-doc-link.fitted span {\n",
       "  /* fitted */\n",
       "  background: var(--sklearn-color-fitted-level-0);\n",
       "  border: var(--sklearn-color-fitted-level-3);\n",
       "}\n",
       "\n",
       ".sk-estimator-doc-link:hover span {\n",
       "  display: block;\n",
       "}\n",
       "\n",
       "/* \"?\"-specific style due to the `<a>` HTML tag */\n",
       "\n",
       "#sk-container-id-3 a.estimator_doc_link {\n",
       "  float: right;\n",
       "  font-size: 1rem;\n",
       "  line-height: 1em;\n",
       "  font-family: monospace;\n",
       "  background-color: var(--sklearn-color-background);\n",
       "  border-radius: 1rem;\n",
       "  height: 1rem;\n",
       "  width: 1rem;\n",
       "  text-decoration: none;\n",
       "  /* unfitted */\n",
       "  color: var(--sklearn-color-unfitted-level-1);\n",
       "  border: var(--sklearn-color-unfitted-level-1) 1pt solid;\n",
       "}\n",
       "\n",
       "#sk-container-id-3 a.estimator_doc_link.fitted {\n",
       "  /* fitted */\n",
       "  border: var(--sklearn-color-fitted-level-1) 1pt solid;\n",
       "  color: var(--sklearn-color-fitted-level-1);\n",
       "}\n",
       "\n",
       "/* On hover */\n",
       "#sk-container-id-3 a.estimator_doc_link:hover {\n",
       "  /* unfitted */\n",
       "  background-color: var(--sklearn-color-unfitted-level-3);\n",
       "  color: var(--sklearn-color-background);\n",
       "  text-decoration: none;\n",
       "}\n",
       "\n",
       "#sk-container-id-3 a.estimator_doc_link.fitted:hover {\n",
       "  /* fitted */\n",
       "  background-color: var(--sklearn-color-fitted-level-3);\n",
       "}\n",
       "</style><div id=\"sk-container-id-3\" class=\"sk-top-container\"><div class=\"sk-text-repr-fallback\"><pre>Ridge(alpha=5)</pre><b>In a Jupyter environment, please rerun this cell to show the HTML representation or trust the notebook. <br />On GitHub, the HTML representation is unable to render, please try loading this page with nbviewer.org.</b></div><div class=\"sk-container\" hidden><div class=\"sk-item\"><div class=\"sk-estimator fitted sk-toggleable\"><input class=\"sk-toggleable__control sk-hidden--visually\" id=\"sk-estimator-id-3\" type=\"checkbox\" checked><label for=\"sk-estimator-id-3\" class=\"sk-toggleable__label fitted sk-toggleable__label-arrow fitted\">&nbsp;&nbsp;Ridge<a class=\"sk-estimator-doc-link fitted\" rel=\"noreferrer\" target=\"_blank\" href=\"https://scikit-learn.org/1.5/modules/generated/sklearn.linear_model.Ridge.html\">?<span>Documentation for Ridge</span></a><span class=\"sk-estimator-doc-link fitted\">i<span>Fitted</span></span></label><div class=\"sk-toggleable__content fitted\"><pre>Ridge(alpha=5)</pre></div> </div></div></div></div>"
      ]
     },
     "execution_count": 66,
     "metadata": {},
     "output_type": "execute_result"
    }
   ],
   "execution_count": 66
  },
  {
   "metadata": {
    "ExecuteTime": {
     "end_time": "2024-11-05T16:49:17.855249Z",
     "start_time": "2024-11-05T16:49:17.841918Z"
    }
   },
   "cell_type": "code",
   "source": [
    "least_squares_y_pred = least_squares_regression.predict(X_test)\n",
    "least_squares_y_pred"
   ],
   "id": "b2325b2096ddab99",
   "outputs": [
    {
     "data": {
      "text/plain": [
       "array([105859.22644974, 111075.81773567, 113792.69638845, ...,\n",
       "        90510.22580697,  21304.27472325, 104677.38950985])"
      ]
     },
     "execution_count": 67,
     "metadata": {},
     "output_type": "execute_result"
    }
   ],
   "execution_count": 67
  },
  {
   "metadata": {
    "ExecuteTime": {
     "end_time": "2024-11-05T16:49:17.955360Z",
     "start_time": "2024-11-05T16:49:17.945666Z"
    }
   },
   "cell_type": "code",
   "source": [
    "lasso_y_pred = lasso_regression.predict(X_test)\n",
    "lasso_y_pred"
   ],
   "id": "c5e7f5be8419ea38",
   "outputs": [
    {
     "data": {
      "text/plain": [
       "array([105860.26893026, 111076.07084698, 113781.21322201, ...,\n",
       "        90502.26571999,  21314.33691773, 104667.28566226])"
      ]
     },
     "execution_count": 68,
     "metadata": {},
     "output_type": "execute_result"
    }
   ],
   "execution_count": 68
  },
  {
   "metadata": {
    "ExecuteTime": {
     "end_time": "2024-11-05T16:49:18.004631Z",
     "start_time": "2024-11-05T16:49:17.995114Z"
    }
   },
   "cell_type": "code",
   "source": [
    "ridge_y_pred = ridge_regression.predict(X_test)\n",
    "ridge_y_pred"
   ],
   "id": "1c5c80cc812fd8e4",
   "outputs": [
    {
     "data": {
      "text/plain": [
       "array([105859.38701244, 111075.85890108, 113790.95668171, ...,\n",
       "        90509.01898928,  21305.79768305, 104675.8584342 ])"
      ]
     },
     "execution_count": 69,
     "metadata": {},
     "output_type": "execute_result"
    }
   ],
   "execution_count": 69
  },
  {
   "metadata": {
    "ExecuteTime": {
     "end_time": "2024-11-05T16:49:18.075795Z",
     "start_time": "2024-11-05T16:49:18.057823Z"
    }
   },
   "cell_type": "code",
   "source": [
    "merged_df = X_test.copy()\n",
    "merged_df['Predicted (Least Squares)'] = least_squares_y_pred\n",
    "merged_df['Predicted (Lasso)'] = lasso_y_pred\n",
    "merged_df['Predicted (Ridge)'] = ridge_y_pred\n",
    "merged_df['Actual'] = y_test\n",
    "merged_df.head()"
   ],
   "id": "8ec0cc4033a0b17f",
   "outputs": [
    {
     "data": {
      "text/plain": [
       "        JobTitle  Year  Predicted (Least Squares)  Predicted (Lasso)  \\\n",
       "12059        144  2011              105859.226450      105860.268930   \n",
       "9146          49  2011              111075.817736      111076.070847   \n",
       "113336      1047  2014              113792.696388      113781.213222   \n",
       "111241      1045  2014              113902.519363      113891.019578   \n",
       "20641        128  2011              106737.810245      106738.719779   \n",
       "\n",
       "        Predicted (Ridge)     Actual  \n",
       "12059       105859.387012   88830.79  \n",
       "9146        111075.858901  101931.31  \n",
       "113336      113790.956682  160073.15  \n",
       "111241      113900.777143  197673.19  \n",
       "20641       106737.950699   61244.72  "
      ],
      "text/html": [
       "<div>\n",
       "<style scoped>\n",
       "    .dataframe tbody tr th:only-of-type {\n",
       "        vertical-align: middle;\n",
       "    }\n",
       "\n",
       "    .dataframe tbody tr th {\n",
       "        vertical-align: top;\n",
       "    }\n",
       "\n",
       "    .dataframe thead th {\n",
       "        text-align: right;\n",
       "    }\n",
       "</style>\n",
       "<table border=\"1\" class=\"dataframe\">\n",
       "  <thead>\n",
       "    <tr style=\"text-align: right;\">\n",
       "      <th></th>\n",
       "      <th>JobTitle</th>\n",
       "      <th>Year</th>\n",
       "      <th>Predicted (Least Squares)</th>\n",
       "      <th>Predicted (Lasso)</th>\n",
       "      <th>Predicted (Ridge)</th>\n",
       "      <th>Actual</th>\n",
       "    </tr>\n",
       "  </thead>\n",
       "  <tbody>\n",
       "    <tr>\n",
       "      <th>12059</th>\n",
       "      <td>144</td>\n",
       "      <td>2011</td>\n",
       "      <td>105859.226450</td>\n",
       "      <td>105860.268930</td>\n",
       "      <td>105859.387012</td>\n",
       "      <td>88830.79</td>\n",
       "    </tr>\n",
       "    <tr>\n",
       "      <th>9146</th>\n",
       "      <td>49</td>\n",
       "      <td>2011</td>\n",
       "      <td>111075.817736</td>\n",
       "      <td>111076.070847</td>\n",
       "      <td>111075.858901</td>\n",
       "      <td>101931.31</td>\n",
       "    </tr>\n",
       "    <tr>\n",
       "      <th>113336</th>\n",
       "      <td>1047</td>\n",
       "      <td>2014</td>\n",
       "      <td>113792.696388</td>\n",
       "      <td>113781.213222</td>\n",
       "      <td>113790.956682</td>\n",
       "      <td>160073.15</td>\n",
       "    </tr>\n",
       "    <tr>\n",
       "      <th>111241</th>\n",
       "      <td>1045</td>\n",
       "      <td>2014</td>\n",
       "      <td>113902.519363</td>\n",
       "      <td>113891.019578</td>\n",
       "      <td>113900.777143</td>\n",
       "      <td>197673.19</td>\n",
       "    </tr>\n",
       "    <tr>\n",
       "      <th>20641</th>\n",
       "      <td>128</td>\n",
       "      <td>2011</td>\n",
       "      <td>106737.810245</td>\n",
       "      <td>106738.719779</td>\n",
       "      <td>106737.950699</td>\n",
       "      <td>61244.72</td>\n",
       "    </tr>\n",
       "  </tbody>\n",
       "</table>\n",
       "</div>"
      ]
     },
     "execution_count": 70,
     "metadata": {},
     "output_type": "execute_result"
    }
   ],
   "execution_count": 70
  },
  {
   "metadata": {
    "ExecuteTime": {
     "end_time": "2024-11-05T16:49:18.176910Z",
     "start_time": "2024-11-05T16:49:18.159273Z"
    }
   },
   "cell_type": "code",
   "source": [
    "least_squares_mae = mean_absolute_error(y_test, least_squares_y_pred)\n",
    "lasso_mae = mean_absolute_error(y_test, lasso_y_pred)\n",
    "ridge_mae = mean_absolute_error(y_test, ridge_y_pred)\n",
    "print('Least Squares MAE:', least_squares_mae)\n",
    "print('Lasso MAE:', lasso_mae)\n",
    "print('Ridge MAE:', ridge_mae)"
   ],
   "id": "80c7c854f1de2f4b",
   "outputs": [
    {
     "name": "stdout",
     "output_type": "stream",
     "text": [
      "Least Squares MAE: 34525.11296455352\n",
      "Lasso MAE: 34525.25952910238\n",
      "Ridge MAE: 34525.135032945516\n"
     ]
    }
   ],
   "execution_count": 71
  },
  {
   "metadata": {
    "ExecuteTime": {
     "end_time": "2024-11-05T16:49:18.278794Z",
     "start_time": "2024-11-05T16:49:18.264872Z"
    }
   },
   "cell_type": "code",
   "source": [
    "least_squares_mse = mean_squared_error(y_test, least_squares_y_pred)\n",
    "lasso_mse = mean_squared_error(y_test, lasso_y_pred)\n",
    "ridge_mse = mean_squared_error(y_test, ridge_y_pred)\n",
    "print('Least Squares MSE:', least_squares_mse)\n",
    "print('Lasso MSE:', lasso_mse)\n",
    "print('Ridge MSE:', ridge_mse)"
   ],
   "id": "8780b644082aa88a",
   "outputs": [
    {
     "name": "stdout",
     "output_type": "stream",
     "text": [
      "Least Squares MSE: 1957812452.8090372\n",
      "Lasso MSE: 1957805297.0043395\n",
      "Ridge MSE: 1957811364.0930016\n"
     ]
    }
   ],
   "execution_count": 72
  },
  {
   "metadata": {},
   "cell_type": "markdown",
   "source": [
    "# Conclusions\n",
    "\n"
   ],
   "id": "e60cc35404438478"
  }
 ],
 "metadata": {
  "kernelspec": {
   "display_name": "Python 3",
   "language": "python",
   "name": "python3"
  },
  "language_info": {
   "codemirror_mode": {
    "name": "ipython",
    "version": 2
   },
   "file_extension": ".py",
   "mimetype": "text/x-python",
   "name": "python",
   "nbconvert_exporter": "python",
   "pygments_lexer": "ipython2",
   "version": "2.7.6"
  }
 },
 "nbformat": 4,
 "nbformat_minor": 5
}
