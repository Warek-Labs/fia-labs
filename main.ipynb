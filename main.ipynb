{
 "cells": [
  {
   "metadata": {},
   "cell_type": "markdown",
   "source": [
    "***FCIM.FIA - Fundamentals of Artificial Intelligence***\n",
    "\n",
    "> **Lab 4:** Learning \\\n",
    "> **Performed by:** Dobrojan Alexandru, FAF-212 \\\n",
    "> **Verified by:** Elena Graur, asist. univ."
   ],
   "id": "be21e193a24dcba3"
  },
  {
   "metadata": {},
   "cell_type": "markdown",
   "source": [
    "# Theory\n",
    "Linear regression is one of the most simple machine learning models capable of predicting and classifying data. Linear regression is based on the regression line or line of best fit from mathematics that finds a line that would best fit between several values with an amount of noise. In this laboratory work I need only the prediction linear regression, that evaluates the input variables in order to generate a float value, that is in my case the predicted salary of a person.\n",
    "\n",
    "As we can see in the following example, regression line is a line that shows the approximate progression of the dependent variables, i.e. where they would fit if not noise was added to each data point. There is a regression line between dependent and independent variable only if there is a correlation between them to. The correlation measures the tendency of two variables to change together and ranges from 1 meaning perfect positive correlation to -1 meaning perfect negative correlation, 0 means there is no correlation at all and the variables grow independent of each other. The regression line can be expressed by the function $y = \\alpha x + \\beta$ for a single independent variable and $y = \\alpha_1 x_1 + \\alpha_2 x_2 + ... + \\alpha_i x_i + \\beta$ for an arbitrary number of independent variables.\n",
    "\n",
    "The model does a very similar thing by finding the regression line intercept and slopes and using this function to generate results for the input variables. Below there is a very simple example of a regression line for a single independent variable:\n",
    "\n",
    "![linear regression example](img/linear-regression.png)\n",
    "\n",
    "## Linear regression types\n",
    "There are several types of linear regression algorithms based on different formulas. Each type of linear regression has its strengths and weaknesses. In this laboratory work I used Ordinary Least Squares, Lasso and Ridge methods.\n",
    "\n",
    "- **Ordinary least squares** (OLS) regression finds the best-fit line by minimizing the sum of squared errors SSE: $SSE = \\sum_{i=1}^{n} (y_i - \\hat{y}_i)^2$.\n",
    "Finding the coefficients require solving the equation: $$\\beta = (X^T X)^{-1} X^T y$$ for an arbitrary number of regressors, that satisfies the following objective function: $Minimize \\sum_{i=1}^{n} (y_i - \\hat{y}_i)^2$\n",
    "- **Lasso** regression is an optimization with a hyperparameter $\\alpha$. It adds a regularization parameter to the objective function, making it $$Minimize \\frac{1}{2}\\sum_{i=1}^n (y_i - X_i \\beta)^2 + \\alpha \\sum_{j=1}^p |\\beta_j|$$ Where the $\\alpha$ is the regularization parameter, a positive float in range [0, $\\infty$)\n",
    "- **Ridge** - also known as Tikhonov regularization, is a type of linear regression that includes a regularization term to prevent overfitting and improve the model's generalization to new data. Its objective function is $$Minimize \\frac{1}{2}\\sum_{i=1}^n (y_i - X_i \\beta)^2 + \\lambda \\sum_{j=1}^p \\beta_j^2$$\n",
    "\n",
    "## Analyzing the dataset\n",
    "After a brif analysis in Excel of the dataset, I came to the conclusion that I have to predict the TotalPay column. There are several columns in the dataset, a few of them with lots of missing data, so I have to consider that. First I notice a two string columns called EmployeeName and JobTitle. EmployeeName is redundant for the model from the beginning since it has arbitrary, non-related data which may screw up the model fitting process. JobTitle will have to be later converted to a number, it is necessary for predictions because it categorizes the row on an average salary basis. Also, I notice that the salaries are spread across different years, agencies and statuses, and they may have notes. Status if of type FT for Full-Time and PT for Part-Time.\n",
    "\n",
    "BasePay, OvertimePay, OtherPay, Benefits, and TotalPayBenefits columns are not needed for the model because the simply provide straight  numerical values for the TotalPay, that needs to be predicted. So I will omit them in the later section.\n"
   ],
   "id": "2cb639c6c13d1a43"
  },
  {
   "metadata": {},
   "cell_type": "markdown",
   "source": [
    "# Practice\n",
    "In this section I implement the requirements and thoroughly explain each step and each decision taken. As I stated earlier, I will implement 3 linear regression models: Ordinary Least Squares, Lasso and Ridge, because they are the most popular and basic regression models."
   ],
   "id": "e95a0d5809037298"
  },
  {
   "metadata": {},
   "cell_type": "markdown",
   "source": [
    "## Global definitions part, imports, loading the data and printing some information\n",
    "In this subsection I prepare the modules, functions and data for further work with it. I use Scikit library for everything related with models since it is easy to use, open-source and very rich in community support and documentation. For plotting I use seaborn which is built over matplotlib and is intended for data science, providing additional features. Data is managed by pandas, which is the most universal tool to work with data sets."
   ],
   "id": "de4b3b3044b6f70d"
  },
  {
   "cell_type": "code",
   "id": "initial_id",
   "metadata": {
    "collapsed": true,
    "ExecuteTime": {
     "end_time": "2024-11-06T13:35:10.597278Z",
     "start_time": "2024-11-06T13:35:10.592818Z"
    }
   },
   "source": [
    "# Imports section\n",
    "\n",
    "import pandas as pd\n",
    "import seaborn as sns\n",
    "import numpy as np\n",
    "\n",
    "# Models\n",
    "from sklearn.linear_model import LinearRegression, Ridge, Lasso\n",
    "# Dataset selection\n",
    "from sklearn.model_selection import train_test_split\n",
    "# Metrics\n",
    "from sklearn.metrics import mean_absolute_error, r2_score, root_mean_squared_error"
   ],
   "outputs": [],
   "execution_count": 239
  },
  {
   "metadata": {
    "ExecuteTime": {
     "end_time": "2024-11-06T13:35:10.668434Z",
     "start_time": "2024-11-06T13:35:10.664817Z"
    }
   },
   "cell_type": "code",
   "source": [
    "# Global definitions\n",
    "COLUMN_TO_PREDICT = 'TotalPay'\n",
    "# Size in percentage of the dataset to be split for the test, 0.15 means 15% of the dataset rows should be randomly\n",
    "# chosen for testing (verifying) and 85% of the dataset is used for training the model\n",
    "TEST_DATASET_SIZE = 0.15"
   ],
   "id": "688269f00430e5e1",
   "outputs": [],
   "execution_count": 240
  },
  {
   "metadata": {
    "ExecuteTime": {
     "end_time": "2024-11-06T13:35:11.185873Z",
     "start_time": "2024-11-06T13:35:10.684610Z"
    }
   },
   "cell_type": "code",
   "source": [
    "# Loading the data\n",
    "data = pd.read_csv('data/data.csv', low_memory=False)\n",
    "# Let's have a look at the loaded data\n",
    "data.head()"
   ],
   "id": "4b84233d631b8c75",
   "outputs": [
    {
     "data": {
      "text/plain": [
       "   Id       EmployeeName                                        JobTitle  \\\n",
       "0   1     NATHANIEL FORD  GENERAL MANAGER-METROPOLITAN TRANSIT AUTHORITY   \n",
       "1   2       GARY JIMENEZ                 CAPTAIN III (POLICE DEPARTMENT)   \n",
       "2   3     ALBERT PARDINI                 CAPTAIN III (POLICE DEPARTMENT)   \n",
       "3   4  CHRISTOPHER CHONG            WIRE ROPE CABLE MAINTENANCE MECHANIC   \n",
       "4   5    PATRICK GARDNER    DEPUTY CHIEF OF DEPARTMENT,(FIRE DEPARTMENT)   \n",
       "\n",
       "     BasePay OvertimePay   OtherPay Benefits   TotalPay  TotalPayBenefits  \\\n",
       "0  167411.18         0.0  400184.25      NaN  567595.43         567595.43   \n",
       "1  155966.02   245131.88  137811.38      NaN  538909.28         538909.28   \n",
       "2  212739.13   106088.18    16452.6      NaN  335279.91         335279.91   \n",
       "3    77916.0    56120.71   198306.9      NaN  332343.61         332343.61   \n",
       "4   134401.6      9737.0  182234.59      NaN  326373.19         326373.19   \n",
       "\n",
       "   Year  Notes         Agency Status  \n",
       "0  2011    NaN  San Francisco    NaN  \n",
       "1  2011    NaN  San Francisco    NaN  \n",
       "2  2011    NaN  San Francisco    NaN  \n",
       "3  2011    NaN  San Francisco    NaN  \n",
       "4  2011    NaN  San Francisco    NaN  "
      ],
      "text/html": [
       "<div>\n",
       "<style scoped>\n",
       "    .dataframe tbody tr th:only-of-type {\n",
       "        vertical-align: middle;\n",
       "    }\n",
       "\n",
       "    .dataframe tbody tr th {\n",
       "        vertical-align: top;\n",
       "    }\n",
       "\n",
       "    .dataframe thead th {\n",
       "        text-align: right;\n",
       "    }\n",
       "</style>\n",
       "<table border=\"1\" class=\"dataframe\">\n",
       "  <thead>\n",
       "    <tr style=\"text-align: right;\">\n",
       "      <th></th>\n",
       "      <th>Id</th>\n",
       "      <th>EmployeeName</th>\n",
       "      <th>JobTitle</th>\n",
       "      <th>BasePay</th>\n",
       "      <th>OvertimePay</th>\n",
       "      <th>OtherPay</th>\n",
       "      <th>Benefits</th>\n",
       "      <th>TotalPay</th>\n",
       "      <th>TotalPayBenefits</th>\n",
       "      <th>Year</th>\n",
       "      <th>Notes</th>\n",
       "      <th>Agency</th>\n",
       "      <th>Status</th>\n",
       "    </tr>\n",
       "  </thead>\n",
       "  <tbody>\n",
       "    <tr>\n",
       "      <th>0</th>\n",
       "      <td>1</td>\n",
       "      <td>NATHANIEL FORD</td>\n",
       "      <td>GENERAL MANAGER-METROPOLITAN TRANSIT AUTHORITY</td>\n",
       "      <td>167411.18</td>\n",
       "      <td>0.0</td>\n",
       "      <td>400184.25</td>\n",
       "      <td>NaN</td>\n",
       "      <td>567595.43</td>\n",
       "      <td>567595.43</td>\n",
       "      <td>2011</td>\n",
       "      <td>NaN</td>\n",
       "      <td>San Francisco</td>\n",
       "      <td>NaN</td>\n",
       "    </tr>\n",
       "    <tr>\n",
       "      <th>1</th>\n",
       "      <td>2</td>\n",
       "      <td>GARY JIMENEZ</td>\n",
       "      <td>CAPTAIN III (POLICE DEPARTMENT)</td>\n",
       "      <td>155966.02</td>\n",
       "      <td>245131.88</td>\n",
       "      <td>137811.38</td>\n",
       "      <td>NaN</td>\n",
       "      <td>538909.28</td>\n",
       "      <td>538909.28</td>\n",
       "      <td>2011</td>\n",
       "      <td>NaN</td>\n",
       "      <td>San Francisco</td>\n",
       "      <td>NaN</td>\n",
       "    </tr>\n",
       "    <tr>\n",
       "      <th>2</th>\n",
       "      <td>3</td>\n",
       "      <td>ALBERT PARDINI</td>\n",
       "      <td>CAPTAIN III (POLICE DEPARTMENT)</td>\n",
       "      <td>212739.13</td>\n",
       "      <td>106088.18</td>\n",
       "      <td>16452.6</td>\n",
       "      <td>NaN</td>\n",
       "      <td>335279.91</td>\n",
       "      <td>335279.91</td>\n",
       "      <td>2011</td>\n",
       "      <td>NaN</td>\n",
       "      <td>San Francisco</td>\n",
       "      <td>NaN</td>\n",
       "    </tr>\n",
       "    <tr>\n",
       "      <th>3</th>\n",
       "      <td>4</td>\n",
       "      <td>CHRISTOPHER CHONG</td>\n",
       "      <td>WIRE ROPE CABLE MAINTENANCE MECHANIC</td>\n",
       "      <td>77916.0</td>\n",
       "      <td>56120.71</td>\n",
       "      <td>198306.9</td>\n",
       "      <td>NaN</td>\n",
       "      <td>332343.61</td>\n",
       "      <td>332343.61</td>\n",
       "      <td>2011</td>\n",
       "      <td>NaN</td>\n",
       "      <td>San Francisco</td>\n",
       "      <td>NaN</td>\n",
       "    </tr>\n",
       "    <tr>\n",
       "      <th>4</th>\n",
       "      <td>5</td>\n",
       "      <td>PATRICK GARDNER</td>\n",
       "      <td>DEPUTY CHIEF OF DEPARTMENT,(FIRE DEPARTMENT)</td>\n",
       "      <td>134401.6</td>\n",
       "      <td>9737.0</td>\n",
       "      <td>182234.59</td>\n",
       "      <td>NaN</td>\n",
       "      <td>326373.19</td>\n",
       "      <td>326373.19</td>\n",
       "      <td>2011</td>\n",
       "      <td>NaN</td>\n",
       "      <td>San Francisco</td>\n",
       "      <td>NaN</td>\n",
       "    </tr>\n",
       "  </tbody>\n",
       "</table>\n",
       "</div>"
      ]
     },
     "execution_count": 241,
     "metadata": {},
     "output_type": "execute_result"
    }
   ],
   "execution_count": 241
  },
  {
   "metadata": {
    "ExecuteTime": {
     "end_time": "2024-11-06T13:35:11.244371Z",
     "start_time": "2024-11-06T13:35:11.239168Z"
    }
   },
   "cell_type": "code",
   "source": [
    "# Print the data types of each column\n",
    "print(data.dtypes)"
   ],
   "id": "1c686814cd82c279",
   "outputs": [
    {
     "name": "stdout",
     "output_type": "stream",
     "text": [
      "Id                    int64\n",
      "EmployeeName         object\n",
      "JobTitle             object\n",
      "BasePay              object\n",
      "OvertimePay          object\n",
      "OtherPay             object\n",
      "Benefits             object\n",
      "TotalPay            float64\n",
      "TotalPayBenefits    float64\n",
      "Year                  int64\n",
      "Notes               float64\n",
      "Agency               object\n",
      "Status               object\n",
      "dtype: object\n"
     ]
    }
   ],
   "execution_count": 242
  },
  {
   "metadata": {},
   "cell_type": "markdown",
   "source": "Object data type means no data type could be inferred for the column. That may happen because some values are missing or there are multiple data types present in the column, for example string, int32, float64 and so on. In my case EmployeeName and JobTitle should be strings, and in the next section I am converting the columns to string.",
   "id": "5ee1b532aeac8c45"
  },
  {
   "metadata": {},
   "cell_type": "markdown",
   "source": [
    "### Analyzing and transforming the dataset\n",
    "\n",
    "In this subsection I analyze each column in order to determine whether to pick it or no. Also I transform the data where it is required."
   ],
   "id": "82731db6ee95f2cd"
  },
  {
   "metadata": {
    "ExecuteTime": {
     "end_time": "2024-11-06T13:35:11.320559Z",
     "start_time": "2024-11-06T13:35:11.298624Z"
    }
   },
   "cell_type": "code",
   "source": [
    "# Convert object data types to string\n",
    "data['EmployeeName'] = data['EmployeeName'].astype('string')\n",
    "data['JobTitle'] = data['JobTitle'].astype('string')\n",
    "print(data.dtypes)"
   ],
   "id": "b892ba8b81f1b1d3",
   "outputs": [
    {
     "name": "stdout",
     "output_type": "stream",
     "text": [
      "Id                           int64\n",
      "EmployeeName        string[python]\n",
      "JobTitle            string[python]\n",
      "BasePay                     object\n",
      "OvertimePay                 object\n",
      "OtherPay                    object\n",
      "Benefits                    object\n",
      "TotalPay                   float64\n",
      "TotalPayBenefits           float64\n",
      "Year                         int64\n",
      "Notes                      float64\n",
      "Agency                      object\n",
      "Status                      object\n",
      "dtype: object\n"
     ]
    }
   ],
   "execution_count": 243
  },
  {
   "metadata": {},
   "cell_type": "markdown",
   "source": "Next, a very important step is looking for columns with missing data, it can be 0 or NaN, in my case it is NaN. There is how I print the column names that have at least one NaN value in them:",
   "id": "208b217f7842d176"
  },
  {
   "metadata": {
    "ExecuteTime": {
     "end_time": "2024-11-06T13:35:11.489419Z",
     "start_time": "2024-11-06T13:35:11.446786Z"
    }
   },
   "cell_type": "code",
   "source": [
    "# See what columns have rows with missing data\n",
    "print(data.columns[data.isna().any()].values)"
   ],
   "id": "c14d1314d1ae7310",
   "outputs": [
    {
     "name": "stdout",
     "output_type": "stream",
     "text": [
      "['BasePay' 'Benefits' 'Notes' 'Status']\n"
     ]
    }
   ],
   "execution_count": 244
  },
  {
   "metadata": {
    "ExecuteTime": {
     "end_time": "2024-11-06T13:35:11.549569Z",
     "start_time": "2024-11-06T13:35:11.543949Z"
    }
   },
   "cell_type": "code",
   "source": "print(data.dtypes)\n",
   "id": "154dd742f5764d4b",
   "outputs": [
    {
     "name": "stdout",
     "output_type": "stream",
     "text": [
      "Id                           int64\n",
      "EmployeeName        string[python]\n",
      "JobTitle            string[python]\n",
      "BasePay                     object\n",
      "OvertimePay                 object\n",
      "OtherPay                    object\n",
      "Benefits                    object\n",
      "TotalPay                   float64\n",
      "TotalPayBenefits           float64\n",
      "Year                         int64\n",
      "Notes                      float64\n",
      "Agency                      object\n",
      "Status                      object\n",
      "dtype: object\n"
     ]
    }
   ],
   "execution_count": 245
  },
  {
   "metadata": {},
   "cell_type": "markdown",
   "source": "Now the data types are more consistent. Next, I look at unique values in the following columns, because there were empty cells in the dataset or there were only one values when I looked at the raw dataset. I use the *unique* function of pandas to show the unique values:",
   "id": "f7e0cae23d4cd598"
  },
  {
   "metadata": {
    "ExecuteTime": {
     "end_time": "2024-11-06T13:35:11.640687Z",
     "start_time": "2024-11-06T13:35:11.622900Z"
    }
   },
   "cell_type": "code",
   "source": [
    "# See if these columns have more than a single value\n",
    "for column in ['Year', 'Notes', 'Agency', 'Status']:\n",
    "    print(f\"{column}: {data[column].unique()}\")"
   ],
   "id": "155c13f762988d39",
   "outputs": [
    {
     "name": "stdout",
     "output_type": "stream",
     "text": [
      "Year: [2011 2012 2013 2014]\n",
      "Notes: [nan]\n",
      "Agency: ['San Francisco']\n",
      "Status: [nan 'PT' 'FT']\n"
     ]
    }
   ],
   "execution_count": 246
  },
  {
   "metadata": {},
   "cell_type": "markdown",
   "source": "As I noticed, Notes and Agency can be removed since they have only one value, that makes them useless. We have several values in Year, thus I leave it. Also the Status column has NaN values in it, that means I have to either populate NaN values or get rid of the whole column, because the lack of values will affect the predictions precision.",
   "id": "6957ace170c9412"
  },
  {
   "metadata": {
    "ExecuteTime": {
     "end_time": "2024-11-06T13:35:11.713145Z",
     "start_time": "2024-11-06T13:35:11.698278Z"
    }
   },
   "cell_type": "code",
   "source": [
    "cols_to_remove = ['EmployeeName', 'BasePay', 'OvertimePay', 'OtherPay', 'Benefits', 'TotalPayBenefits', 'Notes',\n",
    "                  'Agency', 'Status']\n",
    "data = data.drop(cols_to_remove, axis='columns')\n",
    "data.head()"
   ],
   "id": "40cf093a7cff44ac",
   "outputs": [
    {
     "data": {
      "text/plain": [
       "   Id                                        JobTitle   TotalPay  Year\n",
       "0   1  GENERAL MANAGER-METROPOLITAN TRANSIT AUTHORITY  567595.43  2011\n",
       "1   2                 CAPTAIN III (POLICE DEPARTMENT)  538909.28  2011\n",
       "2   3                 CAPTAIN III (POLICE DEPARTMENT)  335279.91  2011\n",
       "3   4            WIRE ROPE CABLE MAINTENANCE MECHANIC  332343.61  2011\n",
       "4   5    DEPUTY CHIEF OF DEPARTMENT,(FIRE DEPARTMENT)  326373.19  2011"
      ],
      "text/html": [
       "<div>\n",
       "<style scoped>\n",
       "    .dataframe tbody tr th:only-of-type {\n",
       "        vertical-align: middle;\n",
       "    }\n",
       "\n",
       "    .dataframe tbody tr th {\n",
       "        vertical-align: top;\n",
       "    }\n",
       "\n",
       "    .dataframe thead th {\n",
       "        text-align: right;\n",
       "    }\n",
       "</style>\n",
       "<table border=\"1\" class=\"dataframe\">\n",
       "  <thead>\n",
       "    <tr style=\"text-align: right;\">\n",
       "      <th></th>\n",
       "      <th>Id</th>\n",
       "      <th>JobTitle</th>\n",
       "      <th>TotalPay</th>\n",
       "      <th>Year</th>\n",
       "    </tr>\n",
       "  </thead>\n",
       "  <tbody>\n",
       "    <tr>\n",
       "      <th>0</th>\n",
       "      <td>1</td>\n",
       "      <td>GENERAL MANAGER-METROPOLITAN TRANSIT AUTHORITY</td>\n",
       "      <td>567595.43</td>\n",
       "      <td>2011</td>\n",
       "    </tr>\n",
       "    <tr>\n",
       "      <th>1</th>\n",
       "      <td>2</td>\n",
       "      <td>CAPTAIN III (POLICE DEPARTMENT)</td>\n",
       "      <td>538909.28</td>\n",
       "      <td>2011</td>\n",
       "    </tr>\n",
       "    <tr>\n",
       "      <th>2</th>\n",
       "      <td>3</td>\n",
       "      <td>CAPTAIN III (POLICE DEPARTMENT)</td>\n",
       "      <td>335279.91</td>\n",
       "      <td>2011</td>\n",
       "    </tr>\n",
       "    <tr>\n",
       "      <th>3</th>\n",
       "      <td>4</td>\n",
       "      <td>WIRE ROPE CABLE MAINTENANCE MECHANIC</td>\n",
       "      <td>332343.61</td>\n",
       "      <td>2011</td>\n",
       "    </tr>\n",
       "    <tr>\n",
       "      <th>4</th>\n",
       "      <td>5</td>\n",
       "      <td>DEPUTY CHIEF OF DEPARTMENT,(FIRE DEPARTMENT)</td>\n",
       "      <td>326373.19</td>\n",
       "      <td>2011</td>\n",
       "    </tr>\n",
       "  </tbody>\n",
       "</table>\n",
       "</div>"
      ]
     },
     "execution_count": 247,
     "metadata": {},
     "output_type": "execute_result"
    }
   ],
   "execution_count": 247
  },
  {
   "metadata": {},
   "cell_type": "markdown",
   "source": "Next, I have to get rid of the string column, because the linear regression works only with numbers, so I have to replace each string with a number. I chose to factorize each title into a number that would act as an ID, below I show how:",
   "id": "b258cd3ad944b35e"
  },
  {
   "metadata": {
    "ExecuteTime": {
     "end_time": "2024-11-06T13:35:11.811192Z",
     "start_time": "2024-11-06T13:35:11.785144Z"
    }
   },
   "cell_type": "code",
   "source": [
    "# Replace (factorize) Job titles from string to integers, for example [a, b, c, a, b] -> [0, 1, 2, 0, 1]\n",
    "data['JobTitle'], _ = pd.factorize(data['JobTitle'])\n",
    "data.head()"
   ],
   "id": "67521b66e48b0256",
   "outputs": [
    {
     "data": {
      "text/plain": [
       "   Id  JobTitle   TotalPay  Year\n",
       "0   1         0  567595.43  2011\n",
       "1   2         1  538909.28  2011\n",
       "2   3         1  335279.91  2011\n",
       "3   4         2  332343.61  2011\n",
       "4   5         3  326373.19  2011"
      ],
      "text/html": [
       "<div>\n",
       "<style scoped>\n",
       "    .dataframe tbody tr th:only-of-type {\n",
       "        vertical-align: middle;\n",
       "    }\n",
       "\n",
       "    .dataframe tbody tr th {\n",
       "        vertical-align: top;\n",
       "    }\n",
       "\n",
       "    .dataframe thead th {\n",
       "        text-align: right;\n",
       "    }\n",
       "</style>\n",
       "<table border=\"1\" class=\"dataframe\">\n",
       "  <thead>\n",
       "    <tr style=\"text-align: right;\">\n",
       "      <th></th>\n",
       "      <th>Id</th>\n",
       "      <th>JobTitle</th>\n",
       "      <th>TotalPay</th>\n",
       "      <th>Year</th>\n",
       "    </tr>\n",
       "  </thead>\n",
       "  <tbody>\n",
       "    <tr>\n",
       "      <th>0</th>\n",
       "      <td>1</td>\n",
       "      <td>0</td>\n",
       "      <td>567595.43</td>\n",
       "      <td>2011</td>\n",
       "    </tr>\n",
       "    <tr>\n",
       "      <th>1</th>\n",
       "      <td>2</td>\n",
       "      <td>1</td>\n",
       "      <td>538909.28</td>\n",
       "      <td>2011</td>\n",
       "    </tr>\n",
       "    <tr>\n",
       "      <th>2</th>\n",
       "      <td>3</td>\n",
       "      <td>1</td>\n",
       "      <td>335279.91</td>\n",
       "      <td>2011</td>\n",
       "    </tr>\n",
       "    <tr>\n",
       "      <th>3</th>\n",
       "      <td>4</td>\n",
       "      <td>2</td>\n",
       "      <td>332343.61</td>\n",
       "      <td>2011</td>\n",
       "    </tr>\n",
       "    <tr>\n",
       "      <th>4</th>\n",
       "      <td>5</td>\n",
       "      <td>3</td>\n",
       "      <td>326373.19</td>\n",
       "      <td>2011</td>\n",
       "    </tr>\n",
       "  </tbody>\n",
       "</table>\n",
       "</div>"
      ]
     },
     "execution_count": 248,
     "metadata": {},
     "output_type": "execute_result"
    }
   ],
   "execution_count": 248
  },
  {
   "metadata": {},
   "cell_type": "markdown",
   "source": "After I factorized the JobTitle column, I look at the correlations between the independent variables and the target variable. Pandas has a useful function for automating this process called corr:",
   "id": "64f88e50a7b0486f"
  },
  {
   "metadata": {
    "ExecuteTime": {
     "end_time": "2024-11-06T13:35:11.906968Z",
     "start_time": "2024-11-06T13:35:11.891875Z"
    }
   },
   "cell_type": "code",
   "source": [
    "# Show correlations with remaining columns\n",
    "data.corr()[COLUMN_TO_PREDICT]"
   ],
   "id": "9819920fd150c912",
   "outputs": [
    {
     "data": {
      "text/plain": [
       "Id         -0.211478\n",
       "JobTitle   -0.350263\n",
       "TotalPay    1.000000\n",
       "Year        0.032090\n",
       "Name: TotalPay, dtype: float64"
      ]
     },
     "execution_count": 249,
     "metadata": {},
     "output_type": "execute_result"
    }
   ],
   "execution_count": 249
  },
  {
   "metadata": {},
   "cell_type": "markdown",
   "source": "The correlation with year is minimal, meaning they are almost independent of each other. JobTitle correlation is irrelevant since it factorized from string.",
   "id": "4dab15e7cbb1ad7a"
  },
  {
   "metadata": {
    "ExecuteTime": {
     "end_time": "2024-11-06T13:35:12.254806Z",
     "start_time": "2024-11-06T13:35:12.072413Z"
    }
   },
   "cell_type": "code",
   "source": [
    "# Plot the average TotalPay per JobTitle, group by 'JobTitle' and calculate the mean of 'TotalPay'\n",
    "sns.scatterplot(x='JobTitle', y='TotalPay', data=data.groupby('JobTitle')['TotalPay'].mean().reset_index())"
   ],
   "id": "ac9f160370365ab9",
   "outputs": [
    {
     "data": {
      "text/plain": [
       "<Axes: xlabel='JobTitle', ylabel='TotalPay'>"
      ]
     },
     "execution_count": 250,
     "metadata": {},
     "output_type": "execute_result"
    },
    {
     "data": {
      "text/plain": [
       "<Figure size 640x480 with 1 Axes>"
      ],
      "image/png": "[encoded data removed]"
     },
     "metadata": {},
     "output_type": "display_data"
    }
   ],
   "execution_count": 250
  },
  {
   "metadata": {
    "ExecuteTime": {
     "end_time": "2024-11-06T13:35:13.338603Z",
     "start_time": "2024-11-06T13:35:12.445550Z"
    }
   },
   "cell_type": "code",
   "source": [
    "# Plot the average Year based on TotalPay, group by 'TotalPay' and calculate the mean of 'Year'\n",
    "sns.scatterplot(x='TotalPay', y='Year', data=data.groupby('TotalPay')['Year'].mean().reset_index())"
   ],
   "id": "1b37d9aeef9fb592",
   "outputs": [
    {
     "data": {
      "text/plain": [
       "<Axes: xlabel='TotalPay', ylabel='Year'>"
      ]
     },
     "execution_count": 251,
     "metadata": {},
     "output_type": "execute_result"
    },
    {
     "data": {
      "text/plain": [
       "<Figure size 640x480 with 1 Axes>"
      ],
      "image/png": "[encoded data removed]"
     },
     "metadata": {},
     "output_type": "display_data"
    }
   ],
   "execution_count": 251
  },
  {
   "metadata": {},
   "cell_type": "markdown",
   "source": [
    "## Training the models\n",
    "In this subsection I define the models, set up the data to train them and perform the fitting phase. First, I divide the dataset into the training and the testing part on a random basis. Scikit has a useful function for this called train_test_split:"
   ],
   "id": "edc92ab04ac39828"
  },
  {
   "metadata": {
    "ExecuteTime": {
     "end_time": "2024-11-06T13:35:13.394668Z",
     "start_time": "2024-11-06T13:35:13.373067Z"
    }
   },
   "cell_type": "code",
   "source": [
    "# Divide data into train and test sets\n",
    "X = data.drop(COLUMN_TO_PREDICT, axis='columns')\n",
    "y = data[COLUMN_TO_PREDICT]\n",
    "X_train, X_test, y_train, y_test = train_test_split(X, y, test_size=TEST_DATASET_SIZE)\n",
    "\n",
    "print(X_train.shape, y_train.shape)\n",
    "print(X_test.shape, y_test.shape)"
   ],
   "id": "af94c74315591050",
   "outputs": [
    {
     "name": "stdout",
     "output_type": "stream",
     "text": [
      "(126355, 3) (126355,)\n",
      "(22299, 3) (22299,)\n"
     ]
    }
   ],
   "execution_count": 252
  },
  {
   "metadata": {},
   "cell_type": "markdown",
   "source": "Next, I initialize the models from the library and train them with the dataset from above:",
   "id": "eb26f0c350935a89"
  },
  {
   "metadata": {
    "ExecuteTime": {
     "end_time": "2024-11-06T13:35:13.970541Z",
     "start_time": "2024-11-06T13:35:13.435766Z"
    }
   },
   "cell_type": "code",
   "source": [
    "least_squares_regression = LinearRegression()\n",
    "lasso_regression = Lasso(alpha=5)  # default 1\n",
    "ridge_regression = Ridge(alpha=5)  # default 1\n",
    "\n",
    "predictors = X_train.columns\n",
    "# Train the model\n",
    "least_squares_regression.fit(X_train[predictors], y_train)\n",
    "lasso_regression.fit(X_train[predictors], y_train)\n",
    "ridge_regression.fit(X_train[predictors], y_train)"
   ],
   "id": "92ce8be2f549a3b7",
   "outputs": [
    {
     "data": {
      "text/plain": [
       "Ridge(alpha=5)"
      ],
      "text/html": [
       "<style>#sk-container-id-10 {\n",
       "  /* Definition of color scheme common for light and dark mode */\n",
       "  --sklearn-color-text: black;\n",
       "  --sklearn-color-line: gray;\n",
       "  /* Definition of color scheme for unfitted estimators */\n",
       "  --sklearn-color-unfitted-level-0: #fff5e6;\n",
       "  --sklearn-color-unfitted-level-1: #f6e4d2;\n",
       "  --sklearn-color-unfitted-level-2: #ffe0b3;\n",
       "  --sklearn-color-unfitted-level-3: chocolate;\n",
       "  /* Definition of color scheme for fitted estimators */\n",
       "  --sklearn-color-fitted-level-0: #f0f8ff;\n",
       "  --sklearn-color-fitted-level-1: #d4ebff;\n",
       "  --sklearn-color-fitted-level-2: #b3dbfd;\n",
       "  --sklearn-color-fitted-level-3: cornflowerblue;\n",
       "\n",
       "  /* Specific color for light theme */\n",
       "  --sklearn-color-text-on-default-background: var(--sg-text-color, var(--theme-code-foreground, var(--jp-content-font-color1, black)));\n",
       "  --sklearn-color-background: var(--sg-background-color, var(--theme-background, var(--jp-layout-color0, white)));\n",
       "  --sklearn-color-border-box: var(--sg-text-color, var(--theme-code-foreground, var(--jp-content-font-color1, black)));\n",
       "  --sklearn-color-icon: #696969;\n",
       "\n",
       "  @media (prefers-color-scheme: dark) {\n",
       "    /* Redefinition of color scheme for dark theme */\n",
       "    --sklearn-color-text-on-default-background: var(--sg-text-color, var(--theme-code-foreground, var(--jp-content-font-color1, white)));\n",
       "    --sklearn-color-background: var(--sg-background-color, var(--theme-background, var(--jp-layout-color0, #111)));\n",
       "    --sklearn-color-border-box: var(--sg-text-color, var(--theme-code-foreground, var(--jp-content-font-color1, white)));\n",
       "    --sklearn-color-icon: #878787;\n",
       "  }\n",
       "}\n",
       "\n",
       "#sk-container-id-10 {\n",
       "  color: var(--sklearn-color-text);\n",
       "}\n",
       "\n",
       "#sk-container-id-10 pre {\n",
       "  padding: 0;\n",
       "}\n",
       "\n",
       "#sk-container-id-10 input.sk-hidden--visually {\n",
       "  border: 0;\n",
       "  clip: rect(1px 1px 1px 1px);\n",
       "  clip: rect(1px, 1px, 1px, 1px);\n",
       "  height: 1px;\n",
       "  margin: -1px;\n",
       "  overflow: hidden;\n",
       "  padding: 0;\n",
       "  position: absolute;\n",
       "  width: 1px;\n",
       "}\n",
       "\n",
       "#sk-container-id-10 div.sk-dashed-wrapped {\n",
       "  border: 1px dashed var(--sklearn-color-line);\n",
       "  margin: 0 0.4em 0.5em 0.4em;\n",
       "  box-sizing: border-box;\n",
       "  padding-bottom: 0.4em;\n",
       "  background-color: var(--sklearn-color-background);\n",
       "}\n",
       "\n",
       "#sk-container-id-10 div.sk-container {\n",
       "  /* jupyter's `normalize.less` sets `[hidden] { display: none; }`\n",
       "     but bootstrap.min.css set `[hidden] { display: none !important; }`\n",
       "     so we also need the `!important` here to be able to override the\n",
       "     default hidden behavior on the sphinx rendered scikit-learn.org.\n",
       "     See: https://github.com/scikit-learn/scikit-learn/issues/21755 */\n",
       "  display: inline-block !important;\n",
       "  position: relative;\n",
       "}\n",
       "\n",
       "#sk-container-id-10 div.sk-text-repr-fallback {\n",
       "  display: none;\n",
       "}\n",
       "\n",
       "div.sk-parallel-item,\n",
       "div.sk-serial,\n",
       "div.sk-item {\n",
       "  /* draw centered vertical line to link estimators */\n",
       "  background-image: linear-gradient(var(--sklearn-color-text-on-default-background), var(--sklearn-color-text-on-default-background));\n",
       "  background-size: 2px 100%;\n",
       "  background-repeat: no-repeat;\n",
       "  background-position: center center;\n",
       "}\n",
       "\n",
       "/* Parallel-specific style estimator block */\n",
       "\n",
       "#sk-container-id-10 div.sk-parallel-item::after {\n",
       "  content: \"\";\n",
       "  width: 100%;\n",
       "  border-bottom: 2px solid var(--sklearn-color-text-on-default-background);\n",
       "  flex-grow: 1;\n",
       "}\n",
       "\n",
       "#sk-container-id-10 div.sk-parallel {\n",
       "  display: flex;\n",
       "  align-items: stretch;\n",
       "  justify-content: center;\n",
       "  background-color: var(--sklearn-color-background);\n",
       "  position: relative;\n",
       "}\n",
       "\n",
       "#sk-container-id-10 div.sk-parallel-item {\n",
       "  display: flex;\n",
       "  flex-direction: column;\n",
       "}\n",
       "\n",
       "#sk-container-id-10 div.sk-parallel-item:first-child::after {\n",
       "  align-self: flex-end;\n",
       "  width: 50%;\n",
       "}\n",
       "\n",
       "#sk-container-id-10 div.sk-parallel-item:last-child::after {\n",
       "  align-self: flex-start;\n",
       "  width: 50%;\n",
       "}\n",
       "\n",
       "#sk-container-id-10 div.sk-parallel-item:only-child::after {\n",
       "  width: 0;\n",
       "}\n",
       "\n",
       "/* Serial-specific style estimator block */\n",
       "\n",
       "#sk-container-id-10 div.sk-serial {\n",
       "  display: flex;\n",
       "  flex-direction: column;\n",
       "  align-items: center;\n",
       "  background-color: var(--sklearn-color-background);\n",
       "  padding-right: 1em;\n",
       "  padding-left: 1em;\n",
       "}\n",
       "\n",
       "\n",
       "/* Toggleable style: style used for estimator/Pipeline/ColumnTransformer box that is\n",
       "clickable and can be expanded/collapsed.\n",
       "- Pipeline and ColumnTransformer use this feature and define the default style\n",
       "- Estimators will overwrite some part of the style using the `sk-estimator` class\n",
       "*/\n",
       "\n",
       "/* Pipeline and ColumnTransformer style (default) */\n",
       "\n",
       "#sk-container-id-10 div.sk-toggleable {\n",
       "  /* Default theme specific background. It is overwritten whether we have a\n",
       "  specific estimator or a Pipeline/ColumnTransformer */\n",
       "  background-color: var(--sklearn-color-background);\n",
       "}\n",
       "\n",
       "/* Toggleable label */\n",
       "#sk-container-id-10 label.sk-toggleable__label {\n",
       "  cursor: pointer;\n",
       "  display: block;\n",
       "  width: 100%;\n",
       "  margin-bottom: 0;\n",
       "  padding: 0.5em;\n",
       "  box-sizing: border-box;\n",
       "  text-align: center;\n",
       "}\n",
       "\n",
       "#sk-container-id-10 label.sk-toggleable__label-arrow:before {\n",
       "  /* Arrow on the left of the label */\n",
       "  content: \"▸\";\n",
       "  float: left;\n",
       "  margin-right: 0.25em;\n",
       "  color: var(--sklearn-color-icon);\n",
       "}\n",
       "\n",
       "#sk-container-id-10 label.sk-toggleable__label-arrow:hover:before {\n",
       "  color: var(--sklearn-color-text);\n",
       "}\n",
       "\n",
       "/* Toggleable content - dropdown */\n",
       "\n",
       "#sk-container-id-10 div.sk-toggleable__content {\n",
       "  max-height: 0;\n",
       "  max-width: 0;\n",
       "  overflow: hidden;\n",
       "  text-align: left;\n",
       "  /* unfitted */\n",
       "  background-color: var(--sklearn-color-unfitted-level-0);\n",
       "}\n",
       "\n",
       "#sk-container-id-10 div.sk-toggleable__content.fitted {\n",
       "  /* fitted */\n",
       "  background-color: var(--sklearn-color-fitted-level-0);\n",
       "}\n",
       "\n",
       "#sk-container-id-10 div.sk-toggleable__content pre {\n",
       "  margin: 0.2em;\n",
       "  border-radius: 0.25em;\n",
       "  color: var(--sklearn-color-text);\n",
       "  /* unfitted */\n",
       "  background-color: var(--sklearn-color-unfitted-level-0);\n",
       "}\n",
       "\n",
       "#sk-container-id-10 div.sk-toggleable__content.fitted pre {\n",
       "  /* unfitted */\n",
       "  background-color: var(--sklearn-color-fitted-level-0);\n",
       "}\n",
       "\n",
       "#sk-container-id-10 input.sk-toggleable__control:checked~div.sk-toggleable__content {\n",
       "  /* Expand drop-down */\n",
       "  max-height: 200px;\n",
       "  max-width: 100%;\n",
       "  overflow: auto;\n",
       "}\n",
       "\n",
       "#sk-container-id-10 input.sk-toggleable__control:checked~label.sk-toggleable__label-arrow:before {\n",
       "  content: \"▾\";\n",
       "}\n",
       "\n",
       "/* Pipeline/ColumnTransformer-specific style */\n",
       "\n",
       "#sk-container-id-10 div.sk-label input.sk-toggleable__control:checked~label.sk-toggleable__label {\n",
       "  color: var(--sklearn-color-text);\n",
       "  background-color: var(--sklearn-color-unfitted-level-2);\n",
       "}\n",
       "\n",
       "#sk-container-id-10 div.sk-label.fitted input.sk-toggleable__control:checked~label.sk-toggleable__label {\n",
       "  background-color: var(--sklearn-color-fitted-level-2);\n",
       "}\n",
       "\n",
       "/* Estimator-specific style */\n",
       "\n",
       "/* Colorize estimator box */\n",
       "#sk-container-id-10 div.sk-estimator input.sk-toggleable__control:checked~label.sk-toggleable__label {\n",
       "  /* unfitted */\n",
       "  background-color: var(--sklearn-color-unfitted-level-2);\n",
       "}\n",
       "\n",
       "#sk-container-id-10 div.sk-estimator.fitted input.sk-toggleable__control:checked~label.sk-toggleable__label {\n",
       "  /* fitted */\n",
       "  background-color: var(--sklearn-color-fitted-level-2);\n",
       "}\n",
       "\n",
       "#sk-container-id-10 div.sk-label label.sk-toggleable__label,\n",
       "#sk-container-id-10 div.sk-label label {\n",
       "  /* The background is the default theme color */\n",
       "  color: var(--sklearn-color-text-on-default-background);\n",
       "}\n",
       "\n",
       "/* On hover, darken the color of the background */\n",
       "#sk-container-id-10 div.sk-label:hover label.sk-toggleable__label {\n",
       "  color: var(--sklearn-color-text);\n",
       "  background-color: var(--sklearn-color-unfitted-level-2);\n",
       "}\n",
       "\n",
       "/* Label box, darken color on hover, fitted */\n",
       "#sk-container-id-10 div.sk-label.fitted:hover label.sk-toggleable__label.fitted {\n",
       "  color: var(--sklearn-color-text);\n",
       "  background-color: var(--sklearn-color-fitted-level-2);\n",
       "}\n",
       "\n",
       "/* Estimator label */\n",
       "\n",
       "#sk-container-id-10 div.sk-label label {\n",
       "  font-family: monospace;\n",
       "  font-weight: bold;\n",
       "  display: inline-block;\n",
       "  line-height: 1.2em;\n",
       "}\n",
       "\n",
       "#sk-container-id-10 div.sk-label-container {\n",
       "  text-align: center;\n",
       "}\n",
       "\n",
       "/* Estimator-specific */\n",
       "#sk-container-id-10 div.sk-estimator {\n",
       "  font-family: monospace;\n",
       "  border: 1px dotted var(--sklearn-color-border-box);\n",
       "  border-radius: 0.25em;\n",
       "  box-sizing: border-box;\n",
       "  margin-bottom: 0.5em;\n",
       "  /* unfitted */\n",
       "  background-color: var(--sklearn-color-unfitted-level-0);\n",
       "}\n",
       "\n",
       "#sk-container-id-10 div.sk-estimator.fitted {\n",
       "  /* fitted */\n",
       "  background-color: var(--sklearn-color-fitted-level-0);\n",
       "}\n",
       "\n",
       "/* on hover */\n",
       "#sk-container-id-10 div.sk-estimator:hover {\n",
       "  /* unfitted */\n",
       "  background-color: var(--sklearn-color-unfitted-level-2);\n",
       "}\n",
       "\n",
       "#sk-container-id-10 div.sk-estimator.fitted:hover {\n",
       "  /* fitted */\n",
       "  background-color: var(--sklearn-color-fitted-level-2);\n",
       "}\n",
       "\n",
       "/* Specification for estimator info (e.g. \"i\" and \"?\") */\n",
       "\n",
       "/* Common style for \"i\" and \"?\" */\n",
       "\n",
       ".sk-estimator-doc-link,\n",
       "a:link.sk-estimator-doc-link,\n",
       "a:visited.sk-estimator-doc-link {\n",
       "  float: right;\n",
       "  font-size: smaller;\n",
       "  line-height: 1em;\n",
       "  font-family: monospace;\n",
       "  background-color: var(--sklearn-color-background);\n",
       "  border-radius: 1em;\n",
       "  height: 1em;\n",
       "  width: 1em;\n",
       "  text-decoration: none !important;\n",
       "  margin-left: 1ex;\n",
       "  /* unfitted */\n",
       "  border: var(--sklearn-color-unfitted-level-1) 1pt solid;\n",
       "  color: var(--sklearn-color-unfitted-level-1);\n",
       "}\n",
       "\n",
       ".sk-estimator-doc-link.fitted,\n",
       "a:link.sk-estimator-doc-link.fitted,\n",
       "a:visited.sk-estimator-doc-link.fitted {\n",
       "  /* fitted */\n",
       "  border: var(--sklearn-color-fitted-level-1) 1pt solid;\n",
       "  color: var(--sklearn-color-fitted-level-1);\n",
       "}\n",
       "\n",
       "/* On hover */\n",
       "div.sk-estimator:hover .sk-estimator-doc-link:hover,\n",
       ".sk-estimator-doc-link:hover,\n",
       "div.sk-label-container:hover .sk-estimator-doc-link:hover,\n",
       ".sk-estimator-doc-link:hover {\n",
       "  /* unfitted */\n",
       "  background-color: var(--sklearn-color-unfitted-level-3);\n",
       "  color: var(--sklearn-color-background);\n",
       "  text-decoration: none;\n",
       "}\n",
       "\n",
       "div.sk-estimator.fitted:hover .sk-estimator-doc-link.fitted:hover,\n",
       ".sk-estimator-doc-link.fitted:hover,\n",
       "div.sk-label-container:hover .sk-estimator-doc-link.fitted:hover,\n",
       ".sk-estimator-doc-link.fitted:hover {\n",
       "  /* fitted */\n",
       "  background-color: var(--sklearn-color-fitted-level-3);\n",
       "  color: var(--sklearn-color-background);\n",
       "  text-decoration: none;\n",
       "}\n",
       "\n",
       "/* Span, style for the box shown on hovering the info icon */\n",
       ".sk-estimator-doc-link span {\n",
       "  display: none;\n",
       "  z-index: 9999;\n",
       "  position: relative;\n",
       "  font-weight: normal;\n",
       "  right: .2ex;\n",
       "  padding: .5ex;\n",
       "  margin: .5ex;\n",
       "  width: min-content;\n",
       "  min-width: 20ex;\n",
       "  max-width: 50ex;\n",
       "  color: var(--sklearn-color-text);\n",
       "  box-shadow: 2pt 2pt 4pt #999;\n",
       "  /* unfitted */\n",
       "  background: var(--sklearn-color-unfitted-level-0);\n",
       "  border: .5pt solid var(--sklearn-color-unfitted-level-3);\n",
       "}\n",
       "\n",
       ".sk-estimator-doc-link.fitted span {\n",
       "  /* fitted */\n",
       "  background: var(--sklearn-color-fitted-level-0);\n",
       "  border: var(--sklearn-color-fitted-level-3);\n",
       "}\n",
       "\n",
       ".sk-estimator-doc-link:hover span {\n",
       "  display: block;\n",
       "}\n",
       "\n",
       "/* \"?\"-specific style due to the `<a>` HTML tag */\n",
       "\n",
       "#sk-container-id-10 a.estimator_doc_link {\n",
       "  float: right;\n",
       "  font-size: 1rem;\n",
       "  line-height: 1em;\n",
       "  font-family: monospace;\n",
       "  background-color: var(--sklearn-color-background);\n",
       "  border-radius: 1rem;\n",
       "  height: 1rem;\n",
       "  width: 1rem;\n",
       "  text-decoration: none;\n",
       "  /* unfitted */\n",
       "  color: var(--sklearn-color-unfitted-level-1);\n",
       "  border: var(--sklearn-color-unfitted-level-1) 1pt solid;\n",
       "}\n",
       "\n",
       "#sk-container-id-10 a.estimator_doc_link.fitted {\n",
       "  /* fitted */\n",
       "  border: var(--sklearn-color-fitted-level-1) 1pt solid;\n",
       "  color: var(--sklearn-color-fitted-level-1);\n",
       "}\n",
       "\n",
       "/* On hover */\n",
       "#sk-container-id-10 a.estimator_doc_link:hover {\n",
       "  /* unfitted */\n",
       "  background-color: var(--sklearn-color-unfitted-level-3);\n",
       "  color: var(--sklearn-color-background);\n",
       "  text-decoration: none;\n",
       "}\n",
       "\n",
       "#sk-container-id-10 a.estimator_doc_link.fitted:hover {\n",
       "  /* fitted */\n",
       "  background-color: var(--sklearn-color-fitted-level-3);\n",
       "}\n",
       "</style><div id=\"sk-container-id-10\" class=\"sk-top-container\"><div class=\"sk-text-repr-fallback\"><pre>Ridge(alpha=5)</pre><b>In a Jupyter environment, please rerun this cell to show the HTML representation or trust the notebook. <br />On GitHub, the HTML representation is unable to render, please try loading this page with nbviewer.org.</b></div><div class=\"sk-container\" hidden><div class=\"sk-item\"><div class=\"sk-estimator fitted sk-toggleable\"><input class=\"sk-toggleable__control sk-hidden--visually\" id=\"sk-estimator-id-10\" type=\"checkbox\" checked><label for=\"sk-estimator-id-10\" class=\"sk-toggleable__label fitted sk-toggleable__label-arrow fitted\">&nbsp;&nbsp;Ridge<a class=\"sk-estimator-doc-link fitted\" rel=\"noreferrer\" target=\"_blank\" href=\"https://scikit-learn.org/1.5/modules/generated/sklearn.linear_model.Ridge.html\">?<span>Documentation for Ridge</span></a><span class=\"sk-estimator-doc-link fitted\">i<span>Fitted</span></span></label><div class=\"sk-toggleable__content fitted\"><pre>Ridge(alpha=5)</pre></div> </div></div></div></div>"
      ]
     },
     "execution_count": 253,
     "metadata": {},
     "output_type": "execute_result"
    }
   ],
   "execution_count": 253
  },
  {
   "metadata": {},
   "cell_type": "markdown",
   "source": [
    "## Predicting\n",
    "After the models are trained, I can proceed to predicting the variables, I use the test dataset for that. Since all the models were trained on the same dataset in order to make sure that is the same data, I can directly further compare the predicted values using metrics. Scikit has a simple function called predict for generating a series of predictions based on input variables:"
   ],
   "id": "a087b6e2e0bd1441"
  },
  {
   "metadata": {
    "ExecuteTime": {
     "end_time": "2024-11-06T13:35:14.005597Z",
     "start_time": "2024-11-06T13:35:13.998961Z"
    }
   },
   "cell_type": "code",
   "source": [
    "least_squares_y_pred = least_squares_regression.predict(X_test)\n",
    "least_squares_y_pred"
   ],
   "id": "b2325b2096ddab99",
   "outputs": [
    {
     "data": {
      "text/plain": [
       "array([102858.81695849,  81250.55714476,  18375.16097432, ...,\n",
       "        12414.95450711,  -2941.94793481,  86656.43131351])"
      ]
     },
     "execution_count": 254,
     "metadata": {},
     "output_type": "execute_result"
    }
   ],
   "execution_count": 254
  },
  {
   "metadata": {
    "ExecuteTime": {
     "end_time": "2024-11-06T13:35:14.077808Z",
     "start_time": "2024-11-06T13:35:14.070249Z"
    }
   },
   "cell_type": "code",
   "source": [
    "lasso_y_pred = lasso_regression.predict(X_test)\n",
    "lasso_y_pred"
   ],
   "id": "c5e7f5be8419ea38",
   "outputs": [
    {
     "data": {
      "text/plain": [
       "array([102860.82338893,  81239.99299496,  18408.1108706 , ...,\n",
       "        12428.97901273,  -2920.60166377,  86645.38395005])"
      ]
     },
     "execution_count": 255,
     "metadata": {},
     "output_type": "execute_result"
    }
   ],
   "execution_count": 255
  },
  {
   "metadata": {
    "ExecuteTime": {
     "end_time": "2024-11-06T13:35:14.163100Z",
     "start_time": "2024-11-06T13:35:14.155212Z"
    }
   },
   "cell_type": "code",
   "source": [
    "ridge_y_pred = ridge_regression.predict(X_test)\n",
    "ridge_y_pred"
   ],
   "id": "1c5c80cc812fd8e4",
   "outputs": [
    {
     "data": {
      "text/plain": [
       "array([102861.53432256,  81236.32731241,  18419.47085011, ...,\n",
       "        12433.77353501,  -2913.27160442,  86641.577874  ])"
      ]
     },
     "execution_count": 256,
     "metadata": {},
     "output_type": "execute_result"
    }
   ],
   "execution_count": 256
  },
  {
   "metadata": {},
   "cell_type": "markdown",
   "source": "Now when we have the predictions for all three models, I can merge them together in a dataframe and show it.",
   "id": "32a67b40551ae458"
  },
  {
   "metadata": {
    "ExecuteTime": {
     "end_time": "2024-11-06T13:35:14.265019Z",
     "start_time": "2024-11-06T13:35:14.251621Z"
    }
   },
   "cell_type": "code",
   "source": [
    "merged_df = X_test.copy()\n",
    "merged_df['Predicted (Least Squares)'] = least_squares_y_pred\n",
    "merged_df['Predicted (Lasso)'] = lasso_y_pred\n",
    "merged_df['Predicted (Ridge)'] = ridge_y_pred\n",
    "merged_df['Actual'] = y_test\n",
    "merged_df.head()"
   ],
   "id": "8ec0cc4033a0b17f",
   "outputs": [
    {
     "data": {
      "text/plain": [
       "            Id  JobTitle  Year  Predicted (Least Squares)  Predicted (Lasso)  \\\n",
       "11326    11327       167  2011              102858.816958      102860.823389   \n",
       "52911    52912      1744  2012               81250.557145       81239.992995   \n",
       "29902    29903       449  2011               18375.160974       18408.110871   \n",
       "106554  106555      1549  2013                9769.221662        9792.309173   \n",
       "41402    41403      1196  2012              134541.802357      134517.057062   \n",
       "\n",
       "        Predicted (Ridge)     Actual  \n",
       "11326       102861.534323   91436.82  \n",
       "52911        81236.327312   73834.55  \n",
       "29902        18419.470850   16905.40  \n",
       "106554        9800.257591    8215.79  \n",
       "41402       134508.526959  132367.28  "
      ],
      "text/html": [
       "<div>\n",
       "<style scoped>\n",
       "    .dataframe tbody tr th:only-of-type {\n",
       "        vertical-align: middle;\n",
       "    }\n",
       "\n",
       "    .dataframe tbody tr th {\n",
       "        vertical-align: top;\n",
       "    }\n",
       "\n",
       "    .dataframe thead th {\n",
       "        text-align: right;\n",
       "    }\n",
       "</style>\n",
       "<table border=\"1\" class=\"dataframe\">\n",
       "  <thead>\n",
       "    <tr style=\"text-align: right;\">\n",
       "      <th></th>\n",
       "      <th>Id</th>\n",
       "      <th>JobTitle</th>\n",
       "      <th>Year</th>\n",
       "      <th>Predicted (Least Squares)</th>\n",
       "      <th>Predicted (Lasso)</th>\n",
       "      <th>Predicted (Ridge)</th>\n",
       "      <th>Actual</th>\n",
       "    </tr>\n",
       "  </thead>\n",
       "  <tbody>\n",
       "    <tr>\n",
       "      <th>11326</th>\n",
       "      <td>11327</td>\n",
       "      <td>167</td>\n",
       "      <td>2011</td>\n",
       "      <td>102858.816958</td>\n",
       "      <td>102860.823389</td>\n",
       "      <td>102861.534323</td>\n",
       "      <td>91436.82</td>\n",
       "    </tr>\n",
       "    <tr>\n",
       "      <th>52911</th>\n",
       "      <td>52912</td>\n",
       "      <td>1744</td>\n",
       "      <td>2012</td>\n",
       "      <td>81250.557145</td>\n",
       "      <td>81239.992995</td>\n",
       "      <td>81236.327312</td>\n",
       "      <td>73834.55</td>\n",
       "    </tr>\n",
       "    <tr>\n",
       "      <th>29902</th>\n",
       "      <td>29903</td>\n",
       "      <td>449</td>\n",
       "      <td>2011</td>\n",
       "      <td>18375.160974</td>\n",
       "      <td>18408.110871</td>\n",
       "      <td>18419.470850</td>\n",
       "      <td>16905.40</td>\n",
       "    </tr>\n",
       "    <tr>\n",
       "      <th>106554</th>\n",
       "      <td>106555</td>\n",
       "      <td>1549</td>\n",
       "      <td>2013</td>\n",
       "      <td>9769.221662</td>\n",
       "      <td>9792.309173</td>\n",
       "      <td>9800.257591</td>\n",
       "      <td>8215.79</td>\n",
       "    </tr>\n",
       "    <tr>\n",
       "      <th>41402</th>\n",
       "      <td>41403</td>\n",
       "      <td>1196</td>\n",
       "      <td>2012</td>\n",
       "      <td>134541.802357</td>\n",
       "      <td>134517.057062</td>\n",
       "      <td>134508.526959</td>\n",
       "      <td>132367.28</td>\n",
       "    </tr>\n",
       "  </tbody>\n",
       "</table>\n",
       "</div>"
      ]
     },
     "execution_count": 257,
     "metadata": {},
     "output_type": "execute_result"
    }
   ],
   "execution_count": 257
  },
  {
   "metadata": {},
   "cell_type": "markdown",
   "source": "I noticed that the predictions precision vary significantly, for example there are relatively precise predictions like 66k for 62k actual, but also are very far from the actual value like 80k for 8k actual. Next I gain more insights about the precision using metrics.",
   "id": "ca8bba2dcb499e34"
  },
  {
   "metadata": {},
   "cell_type": "markdown",
   "source": [
    "## Metrics\n",
    "I am going to use several metrics for evaluating the models. They are: Mean Absolute Error (MAE), Root Mean Square Error (RMSE) and $R^2$ score with the according formulas:\n",
    "$$MAE = \\frac{1}{n} \\sum_{i=1}^n |y_i - \\hat{y_i}|$$ which is basically the average error, the most simple error metric.\n",
    "$$RMSE = \\frac{1}{n} \\sqrt{\\sum_{i=i}^n (y_i - \\hat{y_i})^2}$$ which is a more advanced error metric, it is sensible to outliers as opposed to MAE, thus will be higher if the predicted values have outliers from the actual value.\n",
    "$$R^2 = \\frac{SS_{res}}{SS_{tot}}$$ is a score about how effective is the prediction in comparison to just using the mean value of y. $R^2 \\in [0, 1]$. $SS_{res}$ is the sum of residuals (errors), also called the Residual Sum of Squares (RSS), $SS_{res} = \\sum_{i=1}^n (y_i - \\hat{y})$. $SS_{tot}$ is also known as Total Sum of Squares (TSS). $SS_{tot} = \\sum_{i=1}^n (y_i - \\bar{y_i})$. $R^2$ is also called the Coefficient of Determination and is a good metric for determining that the value of the predictors really matter when predicting."
   ],
   "id": "bc6d682a7cac8fea"
  },
  {
   "metadata": {
    "ExecuteTime": {
     "end_time": "2024-11-06T13:35:14.330380Z",
     "start_time": "2024-11-06T13:35:14.322090Z"
    }
   },
   "cell_type": "code",
   "source": [
    "least_squares_mae = mean_absolute_error(y_test, least_squares_y_pred)\n",
    "lasso_mae = mean_absolute_error(y_test, lasso_y_pred)\n",
    "ridge_mae = mean_absolute_error(y_test, ridge_y_pred)\n",
    "print(f'Least Squares MAE: {least_squares_mae:.2f}')\n",
    "print(f'Lasso MAE: {lasso_mae:.2f}')\n",
    "print(f'Ridge MAE: {ridge_mae:.2f}')"
   ],
   "id": "80c7c854f1de2f4b",
   "outputs": [
    {
     "name": "stdout",
     "output_type": "stream",
     "text": [
      "Least Squares MAE: 7662.92\n",
      "Lasso MAE: 7657.75\n",
      "Ridge MAE: 7655.98\n"
     ]
    }
   ],
   "execution_count": 258
  },
  {
   "metadata": {
    "ExecuteTime": {
     "end_time": "2024-11-06T13:35:14.403934Z",
     "start_time": "2024-11-06T13:35:14.395414Z"
    }
   },
   "cell_type": "code",
   "source": [
    "least_squares_rmse = root_mean_squared_error(y_test, least_squares_y_pred)\n",
    "lasso_rmse = root_mean_squared_error(y_test, lasso_y_pred)\n",
    "ridge_rmse = root_mean_squared_error(y_test, ridge_y_pred)\n",
    "print(f'Least Squares RMSE: {least_squares_rmse:.2f}')\n",
    "print(f'Lasso RMSE: {lasso_rmse:.2f}')\n",
    "print(f'Ridge RMSE: {ridge_rmse:.2f}')"
   ],
   "id": "8780b644082aa88a",
   "outputs": [
    {
     "name": "stdout",
     "output_type": "stream",
     "text": [
      "Least Squares RMSE: 12084.17\n",
      "Lasso RMSE: 12084.02\n",
      "Ridge RMSE: 12083.97\n"
     ]
    }
   ],
   "execution_count": 259
  },
  {
   "metadata": {},
   "cell_type": "markdown",
   "source": "Root Mean Square Error is higher than the Mean Absolute Error, meaning there are significant outliers in the predicted values, it is one of the best metrics for linear regression models due to that.",
   "id": "8790bf1f6c41a275"
  },
  {
   "metadata": {
    "ExecuteTime": {
     "end_time": "2024-11-06T13:35:14.446514Z",
     "start_time": "2024-11-06T13:35:14.437612Z"
    }
   },
   "cell_type": "code",
   "source": [
    "least_squares_r2 = r2_score(y_test, least_squares_y_pred)\n",
    "lasso_r2 = r2_score(y_test, lasso_y_pred)\n",
    "ridge_r2 = r2_score(y_test, ridge_y_pred)\n",
    "print(f'Least Squares R2: {least_squares_r2:.3f}')\n",
    "print(f'Lasso R2: {lasso_r2:.3f}')\n",
    "print(f'Ridge R2: {ridge_r2:.3f}')"
   ],
   "id": "bb2a2a7a9ca1722a",
   "outputs": [
    {
     "name": "stdout",
     "output_type": "stream",
     "text": [
      "Least Squares R2: 0.942\n",
      "Lasso R2: 0.942\n",
      "Ridge R2: 0.942\n"
     ]
    }
   ],
   "execution_count": 260
  },
  {
   "metadata": {},
   "cell_type": "markdown",
   "source": "Not a huge score, it means the models predicts ~24% more accurate than simply using the average actual values from the train set.",
   "id": "7fc3aaad42bc56d7"
  },
  {
   "metadata": {},
   "cell_type": "markdown",
   "source": [
    "# Conclusions\n",
    "\n"
   ],
   "id": "e60cc35404438478"
  }
 ],
 "metadata": {
  "kernelspec": {
   "display_name": "Python 3",
   "language": "python",
   "name": "python3"
  },
  "language_info": {
   "codemirror_mode": {
    "name": "ipython",
    "version": 2
   },
   "file_extension": ".py",
   "mimetype": "text/x-python",
   "name": "python",
   "nbconvert_exporter": "python",
   "pygments_lexer": "ipython2",
   "version": "2.7.6"
  }
 },
 "nbformat": 4,
 "nbformat_minor": 5
}
